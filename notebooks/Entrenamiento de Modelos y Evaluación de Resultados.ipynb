{
 "cells": [
  {
   "cell_type": "markdown",
   "metadata": {},
   "source": [
    "# 4-5 Entrenamiento de Modelos y Evaluación de Resultados"
   ]
  },
  {
   "cell_type": "code",
   "execution_count": 84,
   "metadata": {},
   "outputs": [],
   "source": [
    "# Procesamiento de Datos\n",
    "import numpy as np\n",
    "import pandas as pd\n",
    "import re\n",
    "\n",
    "# Gráficos\n",
    "import matplotlib.pyplot as plt\n",
    "import seaborn as sns; sns.set()\n",
    "%matplotlib inline\n",
    "\n",
    "# General\n",
    "from functools import partial\n",
    "import pickle\n",
    "\n",
    "# Geográficas\n",
    "from geopy.geocoders import Nominatim\n",
    "import folium\n",
    "from branca.element import Figure\n",
    "from folium import plugins\n",
    "\n",
    "# Balanceo del dataset\n",
    "import imblearn\n",
    "from imblearn.pipeline import Pipeline as imbpipeline\n",
    "from imblearn.over_sampling import SMOTE\n",
    "from imblearn.under_sampling import RandomUnderSampler\n",
    "\n",
    "# Sklearn transformaciones y modelos\n",
    "from sklearn.model_selection import RepeatedStratifiedKFold, RepeatedKFold\n",
    "from sklearn.model_selection import cross_val_score\n",
    "from sklearn.linear_model import LogisticRegression\n",
    "from sklearn.ensemble import RandomForestClassifier\n",
    "from sklearn.tree import DecisionTreeClassifier\n",
    "from sklearn.ensemble import AdaBoostClassifier\n",
    "from sklearn.neighbors import KNeighborsClassifier\n",
    "from sklearn.svm import SVC\n",
    "# import xgboost as xgb\n",
    "from sklearn import metrics\n",
    "from sklearn.pipeline import Pipeline\n"
   ]
  },
  {
   "cell_type": "markdown",
   "metadata": {},
   "source": [
    "## Carga de Dataset y Transformadores"
   ]
  },
  {
   "cell_type": "code",
   "execution_count": 2,
   "metadata": {},
   "outputs": [],
   "source": [
    "X_train = pd.read_csv(\"X_train.csv\")\n",
    "X_train_wdm = pd.read_csv(\"X_train_wdm.csv\")\n",
    "X_train_wdc = pd.read_csv(\"X_train_wdc.csv\")\n",
    "X_train_wdn = pd.read_csv(\"X_train_wdn.csv\")\n",
    "\n",
    "with open('output.pkl', 'rb') as f:\n",
    "    output = pickle.load(f)\n",
    "\n",
    "y_train = output['normal']\n",
    "y_train_wdn = output['windir_nans']"
   ]
  },
  {
   "cell_type": "code",
   "execution_count": 3,
   "metadata": {},
   "outputs": [
    {
     "data": {
      "text/plain": [
       "((112339, 136), (112339,))"
      ]
     },
     "execution_count": 3,
     "metadata": {},
     "output_type": "execute_result"
    }
   ],
   "source": [
    "X_train_wdc.shape, y_train.shape"
   ]
  },
  {
   "cell_type": "code",
   "execution_count": 4,
   "metadata": {},
   "outputs": [
    {
     "data": {
      "text/plain": [
       "((98901, 96), (98901,))"
      ]
     },
     "execution_count": 4,
     "metadata": {},
     "output_type": "execute_result"
    }
   ],
   "source": [
    "X_train_wdn.shape, y_train_wdn.shape"
   ]
  },
  {
   "cell_type": "code",
   "execution_count": 5,
   "metadata": {
    "collapsed": true
   },
   "outputs": [
    {
     "name": "stderr",
     "output_type": "stream",
     "text": [
      "C:\\Users\\Lautaro\\anaconda3\\lib\\site-packages\\sklearn\\base.py:310: UserWarning: Trying to unpickle estimator SimpleImputer from version 0.23.1 when using version 0.24.2. This might lead to breaking code or invalid results. Use at your own risk.\n",
      "  warnings.warn(\n",
      "C:\\Users\\Lautaro\\anaconda3\\lib\\site-packages\\sklearn\\base.py:310: UserWarning: Trying to unpickle estimator BayesianRidge from version 0.23.1 when using version 0.24.2. This might lead to breaking code or invalid results. Use at your own risk.\n",
      "  warnings.warn(\n",
      "C:\\Users\\Lautaro\\anaconda3\\lib\\site-packages\\sklearn\\base.py:310: UserWarning: Trying to unpickle estimator IterativeImputer from version 0.23.1 when using version 0.24.2. This might lead to breaking code or invalid results. Use at your own risk.\n",
      "  warnings.warn(\n",
      "C:\\Users\\Lautaro\\anaconda3\\lib\\site-packages\\sklearn\\base.py:310: UserWarning: Trying to unpickle estimator LabelEncoder from version 0.23.1 when using version 0.24.2. This might lead to breaking code or invalid results. Use at your own risk.\n",
      "  warnings.warn(\n",
      "C:\\Users\\Lautaro\\anaconda3\\lib\\site-packages\\sklearn\\base.py:310: UserWarning: Trying to unpickle estimator OneHotEncoder from version 0.23.1 when using version 0.24.2. This might lead to breaking code or invalid results. Use at your own risk.\n",
      "  warnings.warn(\n",
      "C:\\Users\\Lautaro\\anaconda3\\lib\\site-packages\\sklearn\\base.py:310: UserWarning: Trying to unpickle estimator StandardScaler from version 0.23.1 when using version 0.24.2. This might lead to breaking code or invalid results. Use at your own risk.\n",
      "  warnings.warn(\n"
     ]
    }
   ],
   "source": [
    "with open('imputers.pkl', 'rb') as f:\n",
    "    imputers = pickle.load(f)\n",
    "    \n",
    "with open('encoders.pkl', 'rb') as f:\n",
    "    encoders = pickle.load(f)\n",
    "\n",
    "with open('scalers.pkl', 'rb') as f:\n",
    "    scalers = pickle.load(f)"
   ]
  },
  {
   "cell_type": "code",
   "execution_count": 149,
   "metadata": {},
   "outputs": [],
   "source": [
    "with open('clusters.pkl', 'rb') as f:\n",
    "    clusters = pickle.load(f)"
   ]
  },
  {
   "cell_type": "markdown",
   "metadata": {},
   "source": [
    "## Entrenamiento de Modelos"
   ]
  },
  {
   "cell_type": "markdown",
   "metadata": {},
   "source": [
    "A continuación, vamos a probar distintos modelos para el dataset sin balancear y balanceado, con distintas combinaciones de features, para los distintos datasets y estandarización cuando sea necesario. No se realizará un ajuste de los hiperparámetros porque escapa el alcance del trabajo, por lo que se deja como trabajo futuro."
   ]
  },
  {
   "cell_type": "markdown",
   "metadata": {},
   "source": [
    "### Dataset sin balancear"
   ]
  },
  {
   "cell_type": "markdown",
   "metadata": {},
   "source": [
    "#### Dataset (1): imputación por moda"
   ]
  },
  {
   "cell_type": "markdown",
   "metadata": {},
   "source": [
    "En todos los casos vamos a utilizar como métrica F1, la cual suele ser más frecuente para problemas de clasificación binaria con datasets imbalanceados como es éste caso."
   ]
  },
  {
   "cell_type": "code",
   "execution_count": 6,
   "metadata": {},
   "outputs": [
    {
     "data": {
      "text/plain": [
       "Index(['MinTemp', 'MaxTemp', 'Rainfall', 'Evaporation', 'Sunshine',\n",
       "       'WindGustSpeed', 'WindSpeed9am', 'WindSpeed3pm', 'Humidity9am',\n",
       "       'Humidity3pm', 'Pressure9am', 'Pressure3pm', 'Cloud9am', 'Cloud3pm',\n",
       "       'Temp9am', 'Temp3pm', 'Day', 'RainToday_enc', 'WGD_deg_sin',\n",
       "       'WGD_deg_cos', 'WD9_deg_sin', 'WD9_deg_cos', 'WD3_deg_sin',\n",
       "       'WD3_deg_cos', '2007.0', '2008.0', '2009.0', '2010.0', '2011.0',\n",
       "       '2012.0', '2013.0', '2014.0', '2015.0', '2016.0', '2017.0', 'Q1', 'Q2',\n",
       "       'Q3', 'Q4', 'Enero', 'Febrero', 'Marzo', 'Abril', 'Mayo', 'Junio',\n",
       "       'Julio', 'Agosto', 'Septiembre', 'Octubre', 'Noviembre', 'Diciembre',\n",
       "       'Month_sin', 'Month_cos', 'Day_sin', 'Day_cos', 'Island', 'dist2coast',\n",
       "       'Cluster_hd_-1', 'Cluster_hd_0', 'Cluster_hd_1', 'Cluster_hd_2',\n",
       "       'Cluster_hd_3', 'Cluster_hd_4', 'Cluster_hd_5', 'Cluster_hd_6',\n",
       "       'Cluster_hd_7', 'Cluster_ac_0', 'Cluster_ac_1', 'Cluster_ac_2',\n",
       "       'Cluster_ac_3', 'Cluster_ac_4', 'Cluster_ac_5', 'Cluster_ac_6',\n",
       "       'Cluster_opt_-1', 'Cluster_opt_0', 'Cluster_opt_1', 'Cluster_opt_2',\n",
       "       'Cluster_opt_3', 'Cluster_opt_4', 'Cluster_opt_5', 'Cluster_opt_6',\n",
       "       'Cluster_opt_7', 'Cluster_opt_8', 'Cluster_opt_9', 'Cluster_opt_10',\n",
       "       'Cluster_opt_11', 'Cluster_opt_12', 'Cluster_opt_13', 'Cluster_opt_14',\n",
       "       'Cluster_opt_15', 'Cluster_opt_16'],\n",
       "      dtype='object')"
      ]
     },
     "execution_count": 6,
     "metadata": {},
     "output_type": "execute_result"
    }
   ],
   "source": [
    "X_train_wdm.columns"
   ]
  },
  {
   "cell_type": "markdown",
   "metadata": {},
   "source": [
    "Features a utilizar por cluster de ubicación:\n",
    "\n",
    "1. Tiempo: mejores años y dia seno y coseno.\n",
    "2. Tiempo: mejores años, meses trimestrales, día sin transformar.\n",
    "3. Tiempo: mejores años, meses OHE, día sin transformar.\n",
    "4. Tiempo: mejores años, meses seno y coseno, días sin transformar.\n",
    "\n",
    "Vamos a dividir el análisis en modelos que necesitan estandarizado y los que no:"
   ]
  },
  {
   "cell_type": "markdown",
   "metadata": {},
   "source": [
    "##### 1.1 Cluster HDBSCAN"
   ]
  },
  {
   "cell_type": "code",
   "execution_count": 7,
   "metadata": {},
   "outputs": [],
   "source": [
    "modelos_std = [LogisticRegression(max_iter=1000), KNeighborsClassifier(n_neighbors=3)] \n",
    "modelos_tree = [RandomForestClassifier(max_depth=12, random_state=0, class_weight='balanced'), \n",
    "               DecisionTreeClassifier(max_depth=16, max_features=\"sqrt\"), AdaBoostClassifier()]"
   ]
  },
  {
   "cell_type": "code",
   "execution_count": 8,
   "metadata": {},
   "outputs": [],
   "source": [
    "results_wdm = []"
   ]
  },
  {
   "cell_type": "code",
   "execution_count": 9,
   "metadata": {},
   "outputs": [],
   "source": [
    "features = ['MinTemp', 'MaxTemp', 'Rainfall', 'Evaporation', 'Sunshine',\n",
    "       'WindGustSpeed', 'WindSpeed9am', 'WindSpeed3pm', 'Humidity9am',\n",
    "       'Humidity3pm', 'Pressure9am', 'Pressure3pm', 'Cloud9am', 'Cloud3pm',\n",
    "       'Temp9am', 'Temp3pm', 'Day', 'RainToday_enc', 'WGD_deg_sin',\n",
    "       'WGD_deg_cos', 'WD9_deg_sin', 'WD9_deg_cos', 'WD3_deg_sin',\n",
    "       'WD3_deg_cos', '2007.0', '2010.0', '2011.0',\n",
    "       '2012.0', '2015.0', '2016.0', 'Day_sin', 'Day_cos', 'Island', 'dist2coast',\n",
    "       'Cluster_hd_-1', 'Cluster_hd_0', 'Cluster_hd_1', 'Cluster_hd_2',\n",
    "       'Cluster_hd_3', 'Cluster_hd_4', 'Cluster_hd_5', 'Cluster_hd_6',\n",
    "       'Cluster_hd_7']"
   ]
  },
  {
   "cell_type": "code",
   "execution_count": 10,
   "metadata": {},
   "outputs": [],
   "source": [
    "from sklearn.preprocessing import StandardScaler"
   ]
  },
  {
   "cell_type": "code",
   "execution_count": 11,
   "metadata": {},
   "outputs": [
    {
     "name": "stdout",
     "output_type": "stream",
     "text": [
      "Finalizado modelo: LogisticRegression(max_iter=1000)\n",
      "Finalizado modelo: KNeighborsClassifier(n_neighbors=3)\n"
     ]
    }
   ],
   "source": [
    "results=[]\n",
    "\n",
    "for model in modelos_std:\n",
    "    pipeline = Pipeline(steps=[\n",
    "        ( 'standardscaler', StandardScaler()), \n",
    "        ( 'model' , model)\n",
    "    ])\n",
    "    \n",
    "    cv = RepeatedStratifiedKFold(n_splits=5, n_repeats=1, random_state=42)\n",
    "    scores = cross_val_score(pipeline, X_train_wdm[features], y_train, scoring = 'f1' , cv=cv, n_jobs=-1)    \n",
    "    results.append(scores)\n",
    "    print(\"Finalizado modelo: {}\".format(model))"
   ]
  },
  {
   "cell_type": "code",
   "execution_count": 12,
   "metadata": {},
   "outputs": [
    {
     "data": {
      "text/plain": [
       "Text(0, 0.5, 'F1')"
      ]
     },
     "execution_count": 12,
     "metadata": {},
     "output_type": "execute_result"
    },
    {
     "data": {
      "image/png": "[encoded data removed]",
      "text/plain": [
       "<Figure size 1008x432 with 1 Axes>"
      ]
     },
     "metadata": {
      "needs_background": "light"
     },
     "output_type": "display_data"
    }
   ],
   "source": [
    "fig,axes = plt.subplots(1,figsize=(14,6))\n",
    "\n",
    "axes.boxplot(results, labels=\n",
    "    [x or \"None\" for x in modelos_std], showmeans=True)\n",
    "\n",
    "axes.set_xlabel(\"Modelos\")\n",
    "axes.set_ylabel(\"F1\")"
   ]
  },
  {
   "cell_type": "code",
   "execution_count": 13,
   "metadata": {},
   "outputs": [
    {
     "name": "stdout",
     "output_type": "stream",
     "text": [
      "Finalizado modelo: RandomForestClassifier(class_weight='balanced', max_depth=12, random_state=0)\n",
      "Finalizado modelo: DecisionTreeClassifier(max_depth=16, max_features='sqrt')\n",
      "Finalizado modelo: AdaBoostClassifier()\n"
     ]
    }
   ],
   "source": [
    "results_tree=[]\n",
    "\n",
    "for model in modelos_tree:\n",
    "    pipeline = Pipeline(steps=[\n",
    "        ( 'model' , model)\n",
    "    ])\n",
    "    \n",
    "    cv = RepeatedStratifiedKFold(n_splits=5, n_repeats=1, random_state=42)\n",
    "    scores = cross_val_score(pipeline, X_train_wdm[features], y_train, scoring = 'f1' , cv=cv, n_jobs=-1)    \n",
    "    results_tree.append(scores)\n",
    "    print(\"Finalizado modelo: {}\".format(model))"
   ]
  },
  {
   "cell_type": "code",
   "execution_count": 14,
   "metadata": {},
   "outputs": [
    {
     "data": {
      "text/plain": [
       "Text(0, 0.5, 'F1')"
      ]
     },
     "execution_count": 14,
     "metadata": {},
     "output_type": "execute_result"
    },
    {
     "data": {
      "image/png": "[encoded data removed]",
      "text/plain": [
       "<Figure size 1008x432 with 1 Axes>"
      ]
     },
     "metadata": {
      "needs_background": "light"
     },
     "output_type": "display_data"
    }
   ],
   "source": [
    "fig,axes = plt.subplots(1,figsize=(14,6))\n",
    "\n",
    "labels = ['Random Forest', 'Decision Tree', 'AdaBoost']\n",
    "\n",
    "axes.boxplot(results_tree, labels = labels, showmeans=True)\n",
    "\n",
    "axes.set_xlabel(\"Modelos\")\n",
    "axes.set_ylabel(\"F1\")"
   ]
  },
  {
   "cell_type": "code",
   "execution_count": 15,
   "metadata": {},
   "outputs": [],
   "source": [
    "results_wdm.append({'Modelos_std': np.mean(results, axis=1), 'Modelos_tree': np.mean(results_tree, axis=1)})"
   ]
  },
  {
   "cell_type": "markdown",
   "metadata": {},
   "source": [
    "##### 1.2 Cluster HDBSCAN"
   ]
  },
  {
   "cell_type": "code",
   "execution_count": 16,
   "metadata": {},
   "outputs": [],
   "source": [
    "features = ['MinTemp', 'MaxTemp', 'Rainfall', 'Evaporation', 'Sunshine',\n",
    "       'WindGustSpeed', 'WindSpeed9am', 'WindSpeed3pm', 'Humidity9am',\n",
    "       'Humidity3pm', 'Pressure9am', 'Pressure3pm', 'Cloud9am', 'Cloud3pm',\n",
    "       'Temp9am', 'Temp3pm', 'Day', 'RainToday_enc', 'WGD_deg_sin',\n",
    "       'WGD_deg_cos', 'WD9_deg_sin', 'WD9_deg_cos', 'WD3_deg_sin',\n",
    "       'WD3_deg_cos', '2007.0', '2010.0', '2011.0',\n",
    "       '2012.0', '2015.0', '2016.0', 'Q1', 'Q2',\n",
    "       'Q3', 'Q4', 'Island', 'dist2coast', 'Day',\n",
    "       'Cluster_hd_-1', 'Cluster_hd_0', 'Cluster_hd_1', 'Cluster_hd_2',\n",
    "       'Cluster_hd_3', 'Cluster_hd_4', 'Cluster_hd_5', 'Cluster_hd_6',\n",
    "       'Cluster_hd_7']"
   ]
  },
  {
   "cell_type": "code",
   "execution_count": 17,
   "metadata": {},
   "outputs": [],
   "source": [
    "def kfold_model_evaluation(X_train, y_train, models, info, metric):\n",
    "    results = []\n",
    "    \n",
    "    for model in models:\n",
    "        if info==\"std\":\n",
    "            pipeline = Pipeline(steps=[\n",
    "                ( 'standardscaler', StandardScaler()), \n",
    "                ( 'model' , model)\n",
    "            ])\n",
    "        else:\n",
    "            pipeline = Pipeline(steps=[\n",
    "                ( 'model' , model)\n",
    "            ])\n",
    "        cv = RepeatedStratifiedKFold(n_splits=5, n_repeats=1, random_state=42)\n",
    "        scores = cross_val_score(pipeline, X_train, y_train, scoring = metric , cv=cv, n_jobs=-1)    \n",
    "        results.append(scores)\n",
    "        print(\"Finalizado modelo: {}\".format(model))\n",
    "    return results"
   ]
  },
  {
   "cell_type": "code",
   "execution_count": 18,
   "metadata": {},
   "outputs": [
    {
     "name": "stdout",
     "output_type": "stream",
     "text": [
      "Finalizado modelo: LogisticRegression(max_iter=1000)\n",
      "Finalizado modelo: KNeighborsClassifier(n_neighbors=3)\n",
      "Finalizado modelo: RandomForestClassifier(class_weight='balanced', max_depth=12, random_state=0)\n",
      "Finalizado modelo: DecisionTreeClassifier(max_depth=16, max_features='sqrt')\n",
      "Finalizado modelo: AdaBoostClassifier()\n"
     ]
    }
   ],
   "source": [
    "results=[]\n",
    "results_tree = []\n",
    "\n",
    "results = kfold_model_evaluation(X_train_wdm[features], y_train, modelos_std, \"std\", 'f1')\n",
    "results_tree = kfold_model_evaluation(X_train_wdm[features], y_train, modelos_tree, None, 'f1')"
   ]
  },
  {
   "cell_type": "code",
   "execution_count": 19,
   "metadata": {},
   "outputs": [
    {
     "data": {
      "text/plain": [
       "Text(0, 0.5, 'F1')"
      ]
     },
     "execution_count": 19,
     "metadata": {},
     "output_type": "execute_result"
    },
    {
     "data": {
      "image/png": "[encoded data removed]",
      "text/plain": [
       "<Figure size 1008x432 with 1 Axes>"
      ]
     },
     "metadata": {
      "needs_background": "light"
     },
     "output_type": "display_data"
    }
   ],
   "source": [
    "fig,axes = plt.subplots(1,figsize=(14,6))\n",
    "\n",
    "labels_std = ['Logistic Regression', 'KNN']\n",
    "labels_tree = ['Random Forest', 'Decision Tree', 'AdaBoost']\n",
    "\n",
    "axes.boxplot(np.vstack((results, results_tree)).T, labels = labels_std+labels_tree, showmeans=True)\n",
    "\n",
    "axes.set_xlabel(\"Modelos\")\n",
    "axes.set_ylabel(\"F1\")"
   ]
  },
  {
   "cell_type": "code",
   "execution_count": 20,
   "metadata": {},
   "outputs": [],
   "source": [
    "results_wdm.append({'Modelos_std': np.mean(results, axis=1), 'Modelos_tree': np.mean(results_tree, axis=1)})"
   ]
  },
  {
   "cell_type": "markdown",
   "metadata": {},
   "source": [
    "##### 1.3 Cluster HDBSCAN"
   ]
  },
  {
   "cell_type": "code",
   "execution_count": 21,
   "metadata": {},
   "outputs": [],
   "source": [
    "features = ['MinTemp', 'MaxTemp', 'Rainfall', 'Evaporation', 'Sunshine',\n",
    "       'WindGustSpeed', 'WindSpeed9am', 'WindSpeed3pm', 'Humidity9am',\n",
    "       'Humidity3pm', 'Pressure9am', 'Pressure3pm', 'Cloud9am', 'Cloud3pm',\n",
    "       'Temp9am', 'Temp3pm', 'Day', 'RainToday_enc', 'WGD_deg_sin',\n",
    "       'WGD_deg_cos', 'WD9_deg_sin', 'WD9_deg_cos', 'WD3_deg_sin',\n",
    "       'WD3_deg_cos', '2007.0', '2010.0', '2011.0', '2012.0', '2015.0', '2016.0', 'Enero', 'Febrero', 'Marzo', 'Abril', 'Mayo', 'Junio',\n",
    "       'Julio', 'Agosto', 'Septiembre', 'Octubre', 'Noviembre', 'Diciembre', 'Island', 'dist2coast', 'Day',\n",
    "       'Cluster_hd_-1', 'Cluster_hd_0', 'Cluster_hd_1', 'Cluster_hd_2',\n",
    "       'Cluster_hd_3', 'Cluster_hd_4', 'Cluster_hd_5', 'Cluster_hd_6',\n",
    "       'Cluster_hd_7']"
   ]
  },
  {
   "cell_type": "code",
   "execution_count": 22,
   "metadata": {},
   "outputs": [
    {
     "name": "stdout",
     "output_type": "stream",
     "text": [
      "Finalizado modelo: LogisticRegression(max_iter=1000)\n",
      "Finalizado modelo: KNeighborsClassifier(n_neighbors=3)\n",
      "Finalizado modelo: RandomForestClassifier(class_weight='balanced', max_depth=12, random_state=0)\n",
      "Finalizado modelo: DecisionTreeClassifier(max_depth=16, max_features='sqrt')\n",
      "Finalizado modelo: AdaBoostClassifier()\n"
     ]
    }
   ],
   "source": [
    "results=[]\n",
    "results_tree = []\n",
    "\n",
    "results = kfold_model_evaluation(X_train_wdm[features], y_train, modelos_std, \"std\", 'f1')\n",
    "results_tree = kfold_model_evaluation(X_train_wdm[features], y_train, modelos_tree, None, 'f1')"
   ]
  },
  {
   "cell_type": "code",
   "execution_count": 23,
   "metadata": {},
   "outputs": [
    {
     "data": {
      "text/plain": [
       "Text(0, 0.5, 'F1')"
      ]
     },
     "execution_count": 23,
     "metadata": {},
     "output_type": "execute_result"
    },
    {
     "data": {
      "image/png": "[encoded data removed]",
      "text/plain": [
       "<Figure size 1008x432 with 1 Axes>"
      ]
     },
     "metadata": {
      "needs_background": "light"
     },
     "output_type": "display_data"
    }
   ],
   "source": [
    "fig,axes = plt.subplots(1,figsize=(14,6))\n",
    "\n",
    "labels_std = ['Logistic Regression', 'KNN']\n",
    "labels_tree = ['Random Forest', 'Decision Tree', 'AdaBoost']\n",
    "\n",
    "axes.boxplot(np.vstack((results, results_tree)).T, labels = labels_std+labels_tree, showmeans=True)\n",
    "\n",
    "axes.set_xlabel(\"Modelos\")\n",
    "axes.set_ylabel(\"F1\")"
   ]
  },
  {
   "cell_type": "code",
   "execution_count": 24,
   "metadata": {},
   "outputs": [],
   "source": [
    "results_wdm.append({'Modelos_std': np.mean(results, axis=1), 'Modelos_tree': np.mean(results_tree, axis=1)})"
   ]
  },
  {
   "cell_type": "markdown",
   "metadata": {},
   "source": [
    "##### 1.4 Cluster HDBSCAN"
   ]
  },
  {
   "cell_type": "code",
   "execution_count": 25,
   "metadata": {},
   "outputs": [],
   "source": [
    "features = ['MinTemp', 'MaxTemp', 'Rainfall', 'Evaporation', 'Sunshine',\n",
    "       'WindGustSpeed', 'WindSpeed9am', 'WindSpeed3pm', 'Humidity9am',\n",
    "       'Humidity3pm', 'Pressure9am', 'Pressure3pm', 'Cloud9am', 'Cloud3pm',\n",
    "       'Temp9am', 'Temp3pm', 'Day', 'RainToday_enc', 'WGD_deg_sin',\n",
    "       'WGD_deg_cos', 'WD9_deg_sin', 'WD9_deg_cos', 'WD3_deg_sin',\n",
    "       'WD3_deg_cos', '2007.0', '2010.0', '2011.0', '2012.0', '2015.0', '2016.0',\n",
    "       'Month_sin', 'Month_cos' , 'Island', 'dist2coast', 'Day',\n",
    "       'Cluster_hd_-1', 'Cluster_hd_0', 'Cluster_hd_1', 'Cluster_hd_2',\n",
    "       'Cluster_hd_3', 'Cluster_hd_4', 'Cluster_hd_5', 'Cluster_hd_6',\n",
    "       'Cluster_hd_7']"
   ]
  },
  {
   "cell_type": "code",
   "execution_count": 26,
   "metadata": {},
   "outputs": [
    {
     "name": "stdout",
     "output_type": "stream",
     "text": [
      "Finalizado modelo: LogisticRegression(max_iter=1000)\n",
      "Finalizado modelo: KNeighborsClassifier(n_neighbors=3)\n",
      "Finalizado modelo: RandomForestClassifier(class_weight='balanced', max_depth=12, random_state=0)\n",
      "Finalizado modelo: DecisionTreeClassifier(max_depth=16, max_features='sqrt')\n",
      "Finalizado modelo: AdaBoostClassifier()\n"
     ]
    }
   ],
   "source": [
    "results=[]\n",
    "results_tree = []\n",
    "\n",
    "results = kfold_model_evaluation(X_train_wdm[features], y_train, modelos_std, \"std\", 'f1')\n",
    "results_tree = kfold_model_evaluation(X_train_wdm[features], y_train, modelos_tree, None, 'f1')"
   ]
  },
  {
   "cell_type": "code",
   "execution_count": 27,
   "metadata": {},
   "outputs": [
    {
     "data": {
      "text/plain": [
       "Text(0, 0.5, 'F1')"
      ]
     },
     "execution_count": 27,
     "metadata": {},
     "output_type": "execute_result"
    },
    {
     "data": {
      "image/png": "[encoded data removed]",
      "text/plain": [
       "<Figure size 1008x432 with 1 Axes>"
      ]
     },
     "metadata": {
      "needs_background": "light"
     },
     "output_type": "display_data"
    }
   ],
   "source": [
    "fig,axes = plt.subplots(1,figsize=(14,6))\n",
    "\n",
    "labels_std = ['Logistic Regression', 'KNN']\n",
    "labels_tree = ['Random Forest', 'Decision Tree', 'AdaBoost']\n",
    "\n",
    "axes.boxplot(np.vstack((results, results_tree)).T, labels = labels_std+labels_tree, showmeans=True)\n",
    "\n",
    "axes.set_xlabel(\"Modelos\")\n",
    "axes.set_ylabel(\"F1\")"
   ]
  },
  {
   "cell_type": "code",
   "execution_count": 28,
   "metadata": {},
   "outputs": [],
   "source": [
    "results_wdm.append({'Modelos_std': np.mean(results, axis=1), 'Modelos_tree': np.mean(results_tree, axis=1)})"
   ]
  },
  {
   "cell_type": "markdown",
   "metadata": {},
   "source": [
    "Se puede observar como, en general, los mejores resultados se obtienen para Regresión Logística y Random Forest. Ámbos mostraron mejores resultados para la codificación cíclica del día-mes y el resto de los modelos basados en árboles o ensambles experimentaron mejores resultados con las codificaciones por OHE. Es llamativo el bajo desempeño de los árboles de decisión.\n",
    "\n",
    "Dado que la primera configuración fue la más exitosa, se dejará fija esa combinación de features temporales y se variará el cluster de ubicación a utilizar para estudiar ese efecto:"
   ]
  },
  {
   "cell_type": "markdown",
   "metadata": {},
   "source": [
    "##### 2. 1 Cluster Agglomerative Clustering"
   ]
  },
  {
   "cell_type": "code",
   "execution_count": 29,
   "metadata": {},
   "outputs": [],
   "source": [
    "features = ['MinTemp', 'MaxTemp', 'Rainfall', 'Evaporation', 'Sunshine',\n",
    "       'WindGustSpeed', 'WindSpeed9am', 'WindSpeed3pm', 'Humidity9am',\n",
    "       'Humidity3pm', 'Pressure9am', 'Pressure3pm', 'Cloud9am', 'Cloud3pm',\n",
    "       'Temp9am', 'Temp3pm', 'Day', 'RainToday_enc', 'WGD_deg_sin',\n",
    "       'WGD_deg_cos', 'WD9_deg_sin', 'WD9_deg_cos', 'WD3_deg_sin',\n",
    "       'WD3_deg_cos', '2007.0', '2010.0', '2011.0',\n",
    "       '2012.0', '2015.0', '2016.0', 'Day_sin', 'Day_cos', 'Island', 'dist2coast',\n",
    "        'Cluster_ac_0', 'Cluster_ac_1', 'Cluster_ac_2',\n",
    "       'Cluster_ac_3', 'Cluster_ac_4', 'Cluster_ac_5', 'Cluster_ac_6']"
   ]
  },
  {
   "cell_type": "code",
   "execution_count": 30,
   "metadata": {},
   "outputs": [
    {
     "name": "stdout",
     "output_type": "stream",
     "text": [
      "Finalizado modelo: LogisticRegression(max_iter=1000)\n",
      "Finalizado modelo: KNeighborsClassifier(n_neighbors=3)\n",
      "Finalizado modelo: RandomForestClassifier(class_weight='balanced', max_depth=12, random_state=0)\n",
      "Finalizado modelo: DecisionTreeClassifier(max_depth=16, max_features='sqrt')\n",
      "Finalizado modelo: AdaBoostClassifier()\n"
     ]
    }
   ],
   "source": [
    "results=[]\n",
    "results_tree = []\n",
    "\n",
    "results = kfold_model_evaluation(X_train_wdm[features], y_train, modelos_std, \"std\", 'f1')\n",
    "results_tree = kfold_model_evaluation(X_train_wdm[features], y_train, modelos_tree, None, 'f1')"
   ]
  },
  {
   "cell_type": "code",
   "execution_count": 31,
   "metadata": {},
   "outputs": [
    {
     "data": {
      "text/plain": [
       "Text(0, 0.5, 'F1')"
      ]
     },
     "execution_count": 31,
     "metadata": {},
     "output_type": "execute_result"
    },
    {
     "data": {
      "image/png": "[encoded data removed]",
      "text/plain": [
       "<Figure size 1008x432 with 1 Axes>"
      ]
     },
     "metadata": {
      "needs_background": "light"
     },
     "output_type": "display_data"
    }
   ],
   "source": [
    "fig,axes = plt.subplots(1,figsize=(14,6))\n",
    "\n",
    "labels_std = ['Logistic Regression', 'KNN']\n",
    "labels_tree = ['Random Forest', 'Decision Tree', 'AdaBoost']\n",
    "\n",
    "axes.boxplot(np.vstack((results, results_tree)).T, labels = labels_std+labels_tree, showmeans=True)\n",
    "\n",
    "axes.set_xlabel(\"Modelos\")\n",
    "axes.set_ylabel(\"F1\")"
   ]
  },
  {
   "cell_type": "code",
   "execution_count": 32,
   "metadata": {},
   "outputs": [],
   "source": [
    "results_wdm.append({'Modelos_std': np.mean(results, axis=1), 'Modelos_tree': np.mean(results_tree, axis=1)})"
   ]
  },
  {
   "cell_type": "markdown",
   "metadata": {},
   "source": [
    "##### 3. 1 OPTICS Clustering"
   ]
  },
  {
   "cell_type": "code",
   "execution_count": 33,
   "metadata": {},
   "outputs": [],
   "source": [
    "features = ['MinTemp', 'MaxTemp', 'Rainfall', 'Evaporation', 'Sunshine',\n",
    "       'WindGustSpeed', 'WindSpeed9am', 'WindSpeed3pm', 'Humidity9am',\n",
    "       'Humidity3pm', 'Pressure9am', 'Pressure3pm', 'Cloud9am', 'Cloud3pm',\n",
    "       'Temp9am', 'Temp3pm', 'Day', 'RainToday_enc', 'WGD_deg_sin',\n",
    "       'WGD_deg_cos', 'WD9_deg_sin', 'WD9_deg_cos', 'WD3_deg_sin',\n",
    "       'WD3_deg_cos', '2007.0', '2010.0', '2011.0',\n",
    "       '2012.0', '2015.0', '2016.0', 'Day_sin', 'Day_cos', 'Island', 'dist2coast',\n",
    "        'Cluster_opt_1', 'Cluster_opt_2',\n",
    "       'Cluster_opt_3', 'Cluster_opt_4', 'Cluster_opt_5', 'Cluster_opt_6',\n",
    "       'Cluster_opt_7', 'Cluster_opt_8', 'Cluster_opt_9', 'Cluster_opt_10',\n",
    "       'Cluster_opt_11', 'Cluster_opt_12', 'Cluster_opt_13', 'Cluster_opt_14',\n",
    "       'Cluster_opt_15', 'Cluster_opt_16']"
   ]
  },
  {
   "cell_type": "code",
   "execution_count": 34,
   "metadata": {},
   "outputs": [
    {
     "name": "stdout",
     "output_type": "stream",
     "text": [
      "Finalizado modelo: LogisticRegression(max_iter=1000)\n",
      "Finalizado modelo: KNeighborsClassifier(n_neighbors=3)\n",
      "Finalizado modelo: RandomForestClassifier(class_weight='balanced', max_depth=12, random_state=0)\n",
      "Finalizado modelo: DecisionTreeClassifier(max_depth=16, max_features='sqrt')\n",
      "Finalizado modelo: AdaBoostClassifier()\n"
     ]
    }
   ],
   "source": [
    "results=[]\n",
    "results_tree = []\n",
    "\n",
    "results = kfold_model_evaluation(X_train_wdm[features], y_train, modelos_std, \"std\", 'f1')\n",
    "results_tree = kfold_model_evaluation(X_train_wdm[features], y_train, modelos_tree, None, 'f1')"
   ]
  },
  {
   "cell_type": "code",
   "execution_count": 35,
   "metadata": {},
   "outputs": [
    {
     "data": {
      "text/plain": [
       "Text(0, 0.5, 'F1')"
      ]
     },
     "execution_count": 35,
     "metadata": {},
     "output_type": "execute_result"
    },
    {
     "data": {
      "image/png": "[encoded data removed]",
      "text/plain": [
       "<Figure size 1008x432 with 1 Axes>"
      ]
     },
     "metadata": {
      "needs_background": "light"
     },
     "output_type": "display_data"
    }
   ],
   "source": [
    "fig,axes = plt.subplots(1,figsize=(14,6))\n",
    "\n",
    "labels_std = ['Logistic Regression', 'KNN']\n",
    "labels_tree = ['Random Forest', 'Decision Tree', 'AdaBoost']\n",
    "\n",
    "axes.boxplot(np.vstack((results, results_tree)).T, labels = labels_std+labels_tree, showmeans=True)\n",
    "\n",
    "axes.set_xlabel(\"Modelos\")\n",
    "axes.set_ylabel(\"F1\")"
   ]
  },
  {
   "cell_type": "code",
   "execution_count": 36,
   "metadata": {},
   "outputs": [],
   "source": [
    "results_wdm.append({'Modelos_std': np.mean(results, axis=1), 'Modelos_tree': np.mean(results_tree, axis=1)})"
   ]
  },
  {
   "cell_type": "code",
   "execution_count": 40,
   "metadata": {},
   "outputs": [
    {
     "name": "stdout",
     "output_type": "stream",
     "text": [
      "HDBSCAN - Media de F1 para Regresión Logística: 0.602986\n",
      "HDBSCAN - Media de F1 para Random Forest: 0.656954\n",
      "Agglomerative Clustering - Media de F1 para Regresión Logística: 0.601270\n",
      "Agglomerative Clustering - Media de F1 para Random Forest: 0.657099\n",
      "OPTICS - Media de F1 para Regresión Logística: 0.604589\n",
      "OPTICS - Media de F1 para Random Forest: 0.655478\n"
     ]
    }
   ],
   "source": [
    "results_hdbscan = results_wdm[0]\n",
    "results_agg = results_wdm[4]\n",
    "results_opt = results_wdm[5]\n",
    "\n",
    "clusters = {'HDBSCAN':results_hdbscan, 'Agglomerative Clustering':results_agg, 'OPTICS':results_opt}\n",
    "\n",
    "for cluster in clusters.keys():\n",
    "    print(\"{} - Media de F1 para Regresión Logística: {:.6f}\".format(cluster, clusters[cluster]['Modelos_std'][0]))\n",
    "    print(\"{} - Media de F1 para Random Forest: {:.6f}\".format(cluster, clusters[cluster]['Modelos_tree'][0]))"
   ]
  },
  {
   "cell_type": "markdown",
   "metadata": {},
   "source": [
    "Vemos que los resultados para los tres tipos de clusters son bastante similares, donde OPTICS quizás muestra una leve mejoría en Regresión Logística respecto del resto. Siendo ese el caso, se preferirá utilizar Agglomerative Clustering que cuenta con la menor cantidad de features. Vemos que ocurre si usamos todos los clusters:"
   ]
  },
  {
   "cell_type": "markdown",
   "metadata": {},
   "source": [
    "##### 4.1 Todos los Clusters"
   ]
  },
  {
   "cell_type": "code",
   "execution_count": 41,
   "metadata": {},
   "outputs": [],
   "source": [
    "features = ['MinTemp', 'MaxTemp', 'Rainfall', 'Evaporation', 'Sunshine',\n",
    "       'WindGustSpeed', 'WindSpeed9am', 'WindSpeed3pm', 'Humidity9am',\n",
    "       'Humidity3pm', 'Pressure9am', 'Pressure3pm', 'Cloud9am', 'Cloud3pm',\n",
    "       'Temp9am', 'Temp3pm', 'Day', 'RainToday_enc', 'WGD_deg_sin',\n",
    "       'WGD_deg_cos', 'WD9_deg_sin', 'WD9_deg_cos', 'WD3_deg_sin',\n",
    "       'WD3_deg_cos', '2007.0', '2010.0', '2011.0',\n",
    "       '2012.0', '2015.0', '2016.0', 'Day_sin', 'Day_cos', 'Island', 'dist2coast',\n",
    "       'Cluster_hd_-1', 'Cluster_hd_0', 'Cluster_hd_1', 'Cluster_hd_2',\n",
    "       'Cluster_hd_3', 'Cluster_hd_4', 'Cluster_hd_5', 'Cluster_hd_6',\n",
    "       'Cluster_hd_7', 'Cluster_ac_0', 'Cluster_ac_1', 'Cluster_ac_2',\n",
    "       'Cluster_ac_3', 'Cluster_ac_4', 'Cluster_ac_5', 'Cluster_ac_6',\n",
    "       'Cluster_opt_-1', 'Cluster_opt_0', 'Cluster_opt_1', 'Cluster_opt_2',\n",
    "       'Cluster_opt_3', 'Cluster_opt_4', 'Cluster_opt_5', 'Cluster_opt_6',\n",
    "       'Cluster_opt_7', 'Cluster_opt_8', 'Cluster_opt_9', 'Cluster_opt_10',\n",
    "       'Cluster_opt_11', 'Cluster_opt_12', 'Cluster_opt_13', 'Cluster_opt_14',\n",
    "       'Cluster_opt_15', 'Cluster_opt_16']"
   ]
  },
  {
   "cell_type": "code",
   "execution_count": 42,
   "metadata": {},
   "outputs": [
    {
     "name": "stdout",
     "output_type": "stream",
     "text": [
      "Finalizado modelo: LogisticRegression(max_iter=1000)\n",
      "Finalizado modelo: KNeighborsClassifier(n_neighbors=3)\n",
      "Finalizado modelo: RandomForestClassifier(class_weight='balanced', max_depth=12, random_state=0)\n",
      "Finalizado modelo: DecisionTreeClassifier(max_depth=16, max_features='sqrt')\n",
      "Finalizado modelo: AdaBoostClassifier()\n"
     ]
    }
   ],
   "source": [
    "results=[]\n",
    "results_tree = []\n",
    "\n",
    "results = kfold_model_evaluation(X_train_wdm[features], y_train, modelos_std, \"std\", 'f1')\n",
    "results_tree = kfold_model_evaluation(X_train_wdm[features], y_train, modelos_tree, None, 'f1')"
   ]
  },
  {
   "cell_type": "code",
   "execution_count": 43,
   "metadata": {},
   "outputs": [
    {
     "data": {
      "text/plain": [
       "Text(0, 0.5, 'F1')"
      ]
     },
     "execution_count": 43,
     "metadata": {},
     "output_type": "execute_result"
    },
    {
     "data": {
      "image/png": "[encoded data removed]",
      "text/plain": [
       "<Figure size 1008x432 with 1 Axes>"
      ]
     },
     "metadata": {
      "needs_background": "light"
     },
     "output_type": "display_data"
    }
   ],
   "source": [
    "fig,axes = plt.subplots(1,figsize=(14,6))\n",
    "\n",
    "labels_std = ['Logistic Regression', 'KNN']\n",
    "labels_tree = ['Random Forest', 'Decision Tree', 'AdaBoost']\n",
    "\n",
    "axes.boxplot(np.vstack((results, results_tree)).T, labels = labels_std+labels_tree, showmeans=True)\n",
    "\n",
    "axes.set_xlabel(\"Modelos\")\n",
    "axes.set_ylabel(\"F1\")"
   ]
  },
  {
   "cell_type": "code",
   "execution_count": 44,
   "metadata": {},
   "outputs": [],
   "source": [
    "results_wdm.append({'Modelos_std': np.mean(results, axis=1), 'Modelos_tree': np.mean(results_tree, axis=1)})"
   ]
  },
  {
   "cell_type": "code",
   "execution_count": 45,
   "metadata": {},
   "outputs": [
    {
     "name": "stdout",
     "output_type": "stream",
     "text": [
      "Total Clusters - Media de F1 para Regresión Logística: 0.605544\n",
      "Total Clusters - Media de F1 para Random Forest: 0.657167\n"
     ]
    }
   ],
   "source": [
    "results_total = results_wdm[6]\n",
    "\n",
    "clusters = {'Total Clusters':results_total}\n",
    "\n",
    "for cluster in clusters.keys():\n",
    "    print(\"{} - Media de F1 para Regresión Logística: {:.6f}\".format(cluster, clusters[cluster]['Modelos_std'][0]))\n",
    "    print(\"{} - Media de F1 para Random Forest: {:.6f}\".format(cluster, clusters[cluster]['Modelos_tree'][0]))"
   ]
  },
  {
   "cell_type": "markdown",
   "metadata": {},
   "source": [
    "Se obtuvo una muy leve mejoría en las métricas en ámbos modelos, al contemplar el total de las features. De todos modos, no se justifica la mejora para incorporar esa gran cantidad de features. Probaremos por último utilizar Agglomerative Clustering junto a todas las features de ubicación:"
   ]
  },
  {
   "cell_type": "markdown",
   "metadata": {},
   "source": [
    "##### 2.5 Agglomerative Clustering - Total Features Temporales"
   ]
  },
  {
   "cell_type": "code",
   "execution_count": 46,
   "metadata": {},
   "outputs": [],
   "source": [
    "features = ['MinTemp', 'MaxTemp', 'Rainfall', 'Evaporation', 'Sunshine',\n",
    "       'WindGustSpeed', 'WindSpeed9am', 'WindSpeed3pm', 'Humidity9am',\n",
    "       'Humidity3pm', 'Pressure9am', 'Pressure3pm', 'Cloud9am', 'Cloud3pm',\n",
    "       'Temp9am', 'Temp3pm', 'Day', 'RainToday_enc', 'WGD_deg_sin',\n",
    "       'WGD_deg_cos', 'WD9_deg_sin', 'WD9_deg_cos', 'WD3_deg_sin',\n",
    "       'WD3_deg_cos', '2007.0', '2008.0', '2009.0', '2010.0', '2011.0',\n",
    "       '2012.0', '2013.0', '2014.0', '2015.0', '2016.0', '2017.0', 'Q1', 'Q2',\n",
    "       'Q3', 'Q4', 'Enero', 'Febrero', 'Marzo', 'Abril', 'Mayo', 'Junio',\n",
    "       'Julio', 'Agosto', 'Septiembre', 'Octubre', 'Noviembre', 'Diciembre',\n",
    "       'Month_sin', 'Month_cos', 'Day_sin', 'Day_cos', 'Island', 'dist2coast',\n",
    "       'Cluster_ac_0', 'Cluster_ac_1', 'Cluster_ac_2',\n",
    "       'Cluster_ac_3', 'Cluster_ac_4', 'Cluster_ac_5', 'Cluster_ac_6']"
   ]
  },
  {
   "cell_type": "code",
   "execution_count": 47,
   "metadata": {},
   "outputs": [
    {
     "name": "stdout",
     "output_type": "stream",
     "text": [
      "Finalizado modelo: LogisticRegression(max_iter=1000)\n",
      "Finalizado modelo: KNeighborsClassifier(n_neighbors=3)\n",
      "Finalizado modelo: RandomForestClassifier(class_weight='balanced', max_depth=12, random_state=0)\n",
      "Finalizado modelo: DecisionTreeClassifier(max_depth=16, max_features='sqrt')\n",
      "Finalizado modelo: AdaBoostClassifier()\n"
     ]
    }
   ],
   "source": [
    "results=[]\n",
    "results_tree = []\n",
    "\n",
    "results = kfold_model_evaluation(X_train_wdm[features], y_train, modelos_std, \"std\", 'f1')\n",
    "results_tree = kfold_model_evaluation(X_train_wdm[features], y_train, modelos_tree, None, 'f1')"
   ]
  },
  {
   "cell_type": "code",
   "execution_count": 48,
   "metadata": {},
   "outputs": [],
   "source": [
    "results_wdm.append({'Modelos_std': np.mean(results, axis=1), 'Modelos_tree': np.mean(results_tree, axis=1)})"
   ]
  },
  {
   "cell_type": "code",
   "execution_count": 50,
   "metadata": {},
   "outputs": [
    {
     "name": "stdout",
     "output_type": "stream",
     "text": [
      "Agglomerative + Total Features Temporales - Media de F1 para Regresión Logística: 0.602026\n",
      "Agglomerative + Total Features Temporales - Media de F1 para Random Forest: 0.656699\n"
     ]
    }
   ],
   "source": [
    "results_total = results_wdm[7]\n",
    "\n",
    "clusters = {'Agglomerative + Total Features Temporales':results_total}\n",
    "\n",
    "for cluster in clusters.keys():\n",
    "    print(\"{} - Media de F1 para Regresión Logística: {:.6f}\".format(cluster, clusters[cluster]['Modelos_std'][0]))\n",
    "    print(\"{} - Media de F1 para Random Forest: {:.6f}\".format(cluster, clusters[cluster]['Modelos_tree'][0]))"
   ]
  },
  {
   "cell_type": "markdown",
   "metadata": {},
   "source": [
    "No se evidencia una mejora en los resultados por lo que se mantiene la decisión de utilizar Agglomerative Clustering con la primera configuración de features temporales. A continuación, se va a analizar ésta combinación de features para el resto de las técnicas de imputación:"
   ]
  },
  {
   "cell_type": "markdown",
   "metadata": {},
   "source": [
    "#### Dataset (2): imputación por clase nueva"
   ]
  },
  {
   "cell_type": "code",
   "execution_count": 53,
   "metadata": {},
   "outputs": [
    {
     "data": {
      "text/plain": [
       "Index(['MinTemp', 'MaxTemp', 'Rainfall', 'Evaporation', 'Sunshine',\n",
       "       'WindGustSpeed', 'WindSpeed9am', 'WindSpeed3pm', 'Humidity9am',\n",
       "       'Humidity3pm', 'Pressure9am', 'Pressure3pm', 'Cloud9am', 'Cloud3pm',\n",
       "       'Temp9am', 'Temp3pm', 'Day', 'RainToday_enc', 'WGD_E', 'WGD_ENE',\n",
       "       'WGD_ESE', 'WGD_Missing', 'WGD_N', 'WGD_NE', 'WGD_NNE', 'WGD_NNW',\n",
       "       'WGD_NW', 'WGD_S', 'WGD_SE', 'WGD_SSE', 'WGD_SSW', 'WGD_SW', 'WGD_W',\n",
       "       'WGD_WNW', 'WGD_WSW', 'WD9_E', 'WD9_ENE', 'WD9_ESE', 'WD9_Missing',\n",
       "       'WD9_N', 'WD9_NE', 'WD9_NNE', 'WD9_NNW', 'WD9_NW', 'WD9_S', 'WD9_SE',\n",
       "       'WD9_SSE', 'WD9_SSW', 'WD9_SW', 'WD9_W', 'WD9_WNW', 'WD9_WSW', 'WD3_E',\n",
       "       'WD3_ENE', 'WD3_ESE', 'WD3_Missing', 'WD3_N', 'WD3_NE', 'WD3_NNE',\n",
       "       'WD3_NNW', 'WD3_NW', 'WD3_S', 'WD3_SE', 'WD3_SSE', 'WD3_SSW', 'WD3_SW',\n",
       "       'WD3_W', 'WD3_WNW', 'WD3_WSW', '2007.0', '2008.0', '2009.0', '2010.0',\n",
       "       '2011.0', '2012.0', '2013.0', '2014.0', '2015.0', '2016.0', '2017.0'],\n",
       "      dtype='object')"
      ]
     },
     "execution_count": 53,
     "metadata": {},
     "output_type": "execute_result"
    }
   ],
   "source": [
    "X_train_wdc.columns[:80]"
   ]
  },
  {
   "cell_type": "code",
   "execution_count": 54,
   "metadata": {},
   "outputs": [],
   "source": [
    "features = ['MinTemp', 'MaxTemp', 'Rainfall', 'Evaporation', 'Sunshine',\n",
    "       'WindGustSpeed', 'WindSpeed9am', 'WindSpeed3pm', 'Humidity9am',\n",
    "       'Humidity3pm', 'Pressure9am', 'Pressure3pm', 'Cloud9am', 'Cloud3pm',\n",
    "       'Temp9am', 'Temp3pm', 'Day', 'RainToday_enc', 'WGD_E', 'WGD_ENE',\n",
    "       'WGD_ESE', 'WGD_Missing', 'WGD_N', 'WGD_NE', 'WGD_NNE', 'WGD_NNW',\n",
    "       'WGD_NW', 'WGD_S', 'WGD_SE', 'WGD_SSE', 'WGD_SSW', 'WGD_SW', 'WGD_W',\n",
    "       'WGD_WNW', 'WGD_WSW', 'WD9_E', 'WD9_ENE', 'WD9_ESE', 'WD9_Missing',\n",
    "       'WD9_N', 'WD9_NE', 'WD9_NNE', 'WD9_NNW', 'WD9_NW', 'WD9_S', 'WD9_SE',\n",
    "       'WD9_SSE', 'WD9_SSW', 'WD9_SW', 'WD9_W', 'WD9_WNW', 'WD9_WSW', 'WD3_E',\n",
    "       'WD3_ENE', 'WD3_ESE', 'WD3_Missing', 'WD3_N', 'WD3_NE', 'WD3_NNE',\n",
    "       'WD3_NNW', 'WD3_NW', 'WD3_S', 'WD3_SE', 'WD3_SSE', 'WD3_SSW', 'WD3_SW',\n",
    "       'WD3_W', 'WD3_WNW', 'WD3_WSW', '2007.0', '2010.0', '2011.0',\n",
    "       '2012.0', '2015.0', '2016.0', 'Day_sin', 'Day_cos', 'Island', 'dist2coast',\n",
    "        'Cluster_ac_0', 'Cluster_ac_1', 'Cluster_ac_2',\n",
    "       'Cluster_ac_3', 'Cluster_ac_4', 'Cluster_ac_5', 'Cluster_ac_6']"
   ]
  },
  {
   "cell_type": "code",
   "execution_count": 55,
   "metadata": {},
   "outputs": [
    {
     "name": "stdout",
     "output_type": "stream",
     "text": [
      "Finalizado modelo: LogisticRegression(max_iter=1000)\n",
      "Finalizado modelo: KNeighborsClassifier(n_neighbors=3)\n",
      "Finalizado modelo: RandomForestClassifier(class_weight='balanced', max_depth=12, random_state=0)\n",
      "Finalizado modelo: DecisionTreeClassifier(max_depth=16, max_features='sqrt')\n",
      "Finalizado modelo: AdaBoostClassifier()\n"
     ]
    }
   ],
   "source": [
    "results=[]\n",
    "results_tree = []\n",
    "\n",
    "results = kfold_model_evaluation(X_train_wdc[features], y_train, modelos_std, \"std\", 'f1')\n",
    "results_tree = kfold_model_evaluation(X_train_wdc[features], y_train, modelos_tree, None, 'f1')"
   ]
  },
  {
   "cell_type": "code",
   "execution_count": 56,
   "metadata": {},
   "outputs": [
    {
     "data": {
      "text/plain": [
       "Text(0, 0.5, 'F1')"
      ]
     },
     "execution_count": 56,
     "metadata": {},
     "output_type": "execute_result"
    },
    {
     "data": {
      "image/png": "[encoded data removed]",
      "text/plain": [
       "<Figure size 1008x432 with 1 Axes>"
      ]
     },
     "metadata": {
      "needs_background": "light"
     },
     "output_type": "display_data"
    }
   ],
   "source": [
    "fig,axes = plt.subplots(1,figsize=(14,6))\n",
    "\n",
    "labels_std = ['Logistic Regression', 'KNN']\n",
    "labels_tree = ['Random Forest', 'Decision Tree', 'AdaBoost']\n",
    "\n",
    "axes.boxplot(np.vstack((results, results_tree)).T, labels = labels_std+labels_tree, showmeans=True)\n",
    "\n",
    "axes.set_xlabel(\"Modelos\")\n",
    "axes.set_ylabel(\"F1\")"
   ]
  },
  {
   "cell_type": "code",
   "execution_count": 58,
   "metadata": {},
   "outputs": [],
   "source": [
    "results_wdc = []\n",
    "results_wdc.append({'Modelos_std': np.mean(results, axis=1), 'Modelos_tree': np.mean(results_tree, axis=1)})"
   ]
  },
  {
   "cell_type": "code",
   "execution_count": 60,
   "metadata": {},
   "outputs": [
    {
     "name": "stdout",
     "output_type": "stream",
     "text": [
      "Agglomerative + Features Temporales(1) - Media de F1 para Regresión Logística: 0.603245\n",
      "Agglomerative + Features Temporales(1) - Media de F1 para KNN: 0.454400\n",
      "Agglomerative + Features Temporales(1) - Media de F1 para Random Forest: 0.647095\n",
      "Agglomerative + Features Temporales(1) - Media de F1 para Decision Tree: 0.538831\n",
      "Agglomerative + Features Temporales(1) - Media de F1 para AdaBoost: 0.592848\n"
     ]
    }
   ],
   "source": [
    "results_total = results_wdc[0]\n",
    "\n",
    "clusters = {'Agglomerative + Features Temporales(1)':results_total}\n",
    "\n",
    "for cluster in clusters.keys():\n",
    "    print(\"{} - Media de F1 para Regresión Logística: {:.6f}\".format(cluster, clusters[cluster]['Modelos_std'][0]))\n",
    "    print(\"{} - Media de F1 para KNN: {:.6f}\".format(cluster, clusters[cluster]['Modelos_std'][1]))\n",
    "    print(\"{} - Media de F1 para Random Forest: {:.6f}\".format(cluster, clusters[cluster]['Modelos_tree'][0]))\n",
    "    print(\"{} - Media de F1 para Decision Tree: {:.6f}\".format(cluster, clusters[cluster]['Modelos_tree'][1]))\n",
    "    print(\"{} - Media de F1 para AdaBoost: {:.6f}\".format(cluster, clusters[cluster]['Modelos_tree'][2]))"
   ]
  },
  {
   "cell_type": "markdown",
   "metadata": {},
   "source": [
    "Se observa como para ésta estrategia de imputación de valores faltantes de la dirección del viento, se deteriora significativamente el rendimiento de los modelos de KNN y árboles de decisión. El resto de los modelos muestran un desempeño similar."
   ]
  },
  {
   "cell_type": "markdown",
   "metadata": {},
   "source": [
    "#### Dataset (3): Eliminación de Muestras"
   ]
  },
  {
   "cell_type": "code",
   "execution_count": 62,
   "metadata": {},
   "outputs": [],
   "source": [
    "features = ['MinTemp', 'MaxTemp', 'Rainfall', 'Evaporation', 'Sunshine',\n",
    "       'WindGustSpeed', 'WindSpeed9am', 'WindSpeed3pm', 'Humidity9am',\n",
    "       'Humidity3pm', 'Pressure9am', 'Pressure3pm', 'Cloud9am', 'Cloud3pm',\n",
    "       'Temp9am', 'Temp3pm', 'Day', 'RainToday_enc', 'WGD_deg_sin',\n",
    "       'WGD_deg_cos', 'WD9_deg_sin', 'WD9_deg_cos', 'WD3_deg_sin',\n",
    "       'WD3_deg_cos', '2007.0', '2010.0', '2011.0',\n",
    "       '2012.0', '2015.0', '2016.0', 'Day_sin', 'Day_cos', 'Island', 'dist2coast',\n",
    "        'Cluster_ac_0', 'Cluster_ac_1', 'Cluster_ac_2',\n",
    "       'Cluster_ac_3', 'Cluster_ac_4', 'Cluster_ac_5', 'Cluster_ac_6']"
   ]
  },
  {
   "cell_type": "code",
   "execution_count": 63,
   "metadata": {},
   "outputs": [
    {
     "name": "stdout",
     "output_type": "stream",
     "text": [
      "Finalizado modelo: LogisticRegression(max_iter=1000)\n",
      "Finalizado modelo: KNeighborsClassifier(n_neighbors=3)\n",
      "Finalizado modelo: RandomForestClassifier(class_weight='balanced', max_depth=12, random_state=0)\n",
      "Finalizado modelo: DecisionTreeClassifier(max_depth=16, max_features='sqrt')\n",
      "Finalizado modelo: AdaBoostClassifier()\n"
     ]
    }
   ],
   "source": [
    "results=[]\n",
    "results_tree = []\n",
    "\n",
    "results = kfold_model_evaluation(X_train_wdn[features], y_train_wdn, modelos_std, \"std\", 'f1')\n",
    "results_tree = kfold_model_evaluation(X_train_wdn[features], y_train_wdn, modelos_tree, None, 'f1')"
   ]
  },
  {
   "cell_type": "code",
   "execution_count": 64,
   "metadata": {},
   "outputs": [
    {
     "data": {
      "text/plain": [
       "Text(0, 0.5, 'F1')"
      ]
     },
     "execution_count": 64,
     "metadata": {},
     "output_type": "execute_result"
    },
    {
     "data": {
      "image/png": "[encoded data removed]",
      "text/plain": [
       "<Figure size 1008x432 with 1 Axes>"
      ]
     },
     "metadata": {
      "needs_background": "light"
     },
     "output_type": "display_data"
    }
   ],
   "source": [
    "fig,axes = plt.subplots(1,figsize=(14,6))\n",
    "\n",
    "labels_std = ['Logistic Regression', 'KNN']\n",
    "labels_tree = ['Random Forest', 'Decision Tree', 'AdaBoost']\n",
    "\n",
    "axes.boxplot(np.vstack((results, results_tree)).T, labels = labels_std+labels_tree, showmeans=True)\n",
    "\n",
    "axes.set_xlabel(\"Modelos\")\n",
    "axes.set_ylabel(\"F1\")"
   ]
  },
  {
   "cell_type": "code",
   "execution_count": 65,
   "metadata": {},
   "outputs": [],
   "source": [
    "results_wdn = []\n",
    "results_wdn.append({'Modelos_std': np.mean(results, axis=1), 'Modelos_tree': np.mean(results_tree, axis=1)})"
   ]
  },
  {
   "cell_type": "code",
   "execution_count": 66,
   "metadata": {},
   "outputs": [
    {
     "name": "stdout",
     "output_type": "stream",
     "text": [
      "Agglomerative + Features Temporales(2) - Media de F1 para Regresión Logística: 0.607605\n",
      "Agglomerative + Features Temporales(2) - Media de F1 para KNN: 0.579439\n",
      "Agglomerative + Features Temporales(2) - Media de F1 para Random Forest: 0.662210\n",
      "Agglomerative + Features Temporales(2) - Media de F1 para Decision Tree: 0.553723\n",
      "Agglomerative + Features Temporales(2) - Media de F1 para AdaBoost: 0.601442\n"
     ]
    }
   ],
   "source": [
    "results_total = results_wdn[0]\n",
    "\n",
    "clusters = {'Agglomerative + Features Temporales(2)':results_total}\n",
    "\n",
    "for cluster in clusters.keys():\n",
    "    print(\"{} - Media de F1 para Regresión Logística: {:.6f}\".format(cluster, clusters[cluster]['Modelos_std'][0]))\n",
    "    print(\"{} - Media de F1 para KNN: {:.6f}\".format(cluster, clusters[cluster]['Modelos_std'][1]))\n",
    "    print(\"{} - Media de F1 para Random Forest: {:.6f}\".format(cluster, clusters[cluster]['Modelos_tree'][0]))\n",
    "    print(\"{} - Media de F1 para Decision Tree: {:.6f}\".format(cluster, clusters[cluster]['Modelos_tree'][1]))\n",
    "    print(\"{} - Media de F1 para AdaBoost: {:.6f}\".format(cluster, clusters[cluster]['Modelos_tree'][2]))"
   ]
  },
  {
   "cell_type": "markdown",
   "metadata": {},
   "source": [
    "Llamativamente, el dataset donde se eliminaron los valores faltantes de dirección del viento, es el que mejor resultados presenta para la mayoría de los modelos. Es notable la mejoría en Random Forest y en AdaBoost."
   ]
  },
  {
   "cell_type": "markdown",
   "metadata": {},
   "source": [
    "### Dataset balanceado"
   ]
  },
  {
   "cell_type": "markdown",
   "metadata": {},
   "source": [
    "A continuación, vamos a utilizar SMOTE para balancear el dataset. Nuevamente, no es el objetivo del trabajo realizar un ajuste fino de los parámetros de SMOTE."
   ]
  },
  {
   "cell_type": "code",
   "execution_count": 89,
   "metadata": {},
   "outputs": [],
   "source": [
    "def kfold_model_evaluation_smote(X_train, y_train, models, info, metric):\n",
    "    results = []\n",
    "    \n",
    "\n",
    "    \n",
    "    for model in models:\n",
    "        if info==\"std\":\n",
    "            pipeline =  imbpipeline(steps = [['smote', SMOTE(random_state=11)],\n",
    "                                             ['scaler', StandardScaler()],\n",
    "                                             ['model', model]])\n",
    "        else:\n",
    "            pipeline =  imbpipeline(steps = [['smote', SMOTE(random_state=11)],\n",
    "                                             ['model', model]])\n",
    "            \n",
    "        cv = RepeatedStratifiedKFold(n_splits=5, n_repeats=1, random_state=42)\n",
    "        scores = cross_val_score(pipeline, X_train, y_train, scoring = metric , cv=cv, n_jobs=-1)    \n",
    "        results.append(scores)\n",
    "        print(\"Finalizado modelo: {}\".format(model))\n",
    "    return results"
   ]
  },
  {
   "cell_type": "markdown",
   "metadata": {},
   "source": [
    "#### Dataset (1)"
   ]
  },
  {
   "cell_type": "code",
   "execution_count": 90,
   "metadata": {},
   "outputs": [],
   "source": [
    "features = ['MinTemp', 'MaxTemp', 'Rainfall', 'Evaporation', 'Sunshine',\n",
    "       'WindGustSpeed', 'WindSpeed9am', 'WindSpeed3pm', 'Humidity9am',\n",
    "       'Humidity3pm', 'Pressure9am', 'Pressure3pm', 'Cloud9am', 'Cloud3pm',\n",
    "       'Temp9am', 'Temp3pm', 'Day', 'RainToday_enc', 'WGD_deg_sin',\n",
    "       'WGD_deg_cos', 'WD9_deg_sin', 'WD9_deg_cos', 'WD3_deg_sin',\n",
    "       'WD3_deg_cos', '2007.0', '2010.0', '2011.0',\n",
    "       '2012.0', '2015.0', '2016.0', 'Day_sin', 'Day_cos', 'Island', 'dist2coast',\n",
    "        'Cluster_ac_0', 'Cluster_ac_1', 'Cluster_ac_2',\n",
    "       'Cluster_ac_3', 'Cluster_ac_4', 'Cluster_ac_5', 'Cluster_ac_6']"
   ]
  },
  {
   "cell_type": "code",
   "execution_count": 91,
   "metadata": {},
   "outputs": [
    {
     "name": "stdout",
     "output_type": "stream",
     "text": [
      "Finalizado modelo: LogisticRegression(max_iter=1000)\n",
      "Finalizado modelo: KNeighborsClassifier(n_neighbors=3)\n",
      "Finalizado modelo: RandomForestClassifier(class_weight='balanced', max_depth=12, random_state=0)\n",
      "Finalizado modelo: DecisionTreeClassifier(max_depth=16, max_features='sqrt')\n",
      "Finalizado modelo: AdaBoostClassifier()\n"
     ]
    }
   ],
   "source": [
    "results=[]\n",
    "results_tree = []\n",
    "\n",
    "results = kfold_model_evaluation_smote(X_train_wdm[features], y_train, modelos_std, \"std\", 'f1')\n",
    "results_tree = kfold_model_evaluation_smote(X_train_wdm[features], y_train, modelos_tree, None, 'f1')"
   ]
  },
  {
   "cell_type": "code",
   "execution_count": 93,
   "metadata": {},
   "outputs": [
    {
     "data": {
      "text/plain": [
       "Text(0, 0.5, 'F1')"
      ]
     },
     "execution_count": 93,
     "metadata": {},
     "output_type": "execute_result"
    },
    {
     "data": {
      "image/png": "[encoded data removed]",
      "text/plain": [
       "<Figure size 1008x432 with 1 Axes>"
      ]
     },
     "metadata": {
      "needs_background": "light"
     },
     "output_type": "display_data"
    }
   ],
   "source": [
    "fig,axes = plt.subplots(1,figsize=(14,6))\n",
    "\n",
    "labels_std = ['Logistic Regression', 'KNN']\n",
    "labels_tree = ['Random Forest', 'Decision Tree', 'AdaBoost']\n",
    "\n",
    "axes.boxplot(np.vstack((results, results_tree)).T, labels = labels_std+labels_tree, showmeans=True)\n",
    "\n",
    "axes.set_xlabel(\"Modelos\")\n",
    "axes.set_ylabel(\"F1\")"
   ]
  },
  {
   "cell_type": "code",
   "execution_count": 94,
   "metadata": {},
   "outputs": [],
   "source": [
    "results_wdm.append({'Modelos_std': np.mean(results, axis=1), 'Modelos_tree': np.mean(results_tree, axis=1)})"
   ]
  },
  {
   "cell_type": "code",
   "execution_count": 95,
   "metadata": {},
   "outputs": [
    {
     "name": "stdout",
     "output_type": "stream",
     "text": [
      "Agglomerative + Features Temporales Balanceado - Media de F1 para Regresión Logística: 0.626784\n",
      "Agglomerative + Features Temporales Balanceado - Media de F1 para KNN: 0.597121\n",
      "Agglomerative + Features Temporales Balanceado - Media de F1 para Random Forest: 0.653825\n",
      "Agglomerative + Features Temporales Balanceado - Media de F1 para Decision Tree: 0.557449\n",
      "Agglomerative + Features Temporales Balanceado - Media de F1 para AdaBoost: 0.603059\n"
     ]
    }
   ],
   "source": [
    "results_total = results_wdm[-1]\n",
    "\n",
    "clusters = {'Agglomerative + Features Temporales Balanceado':results_total}\n",
    "\n",
    "for cluster in clusters.keys():\n",
    "    print(\"{} - Media de F1 para Regresión Logística: {:.6f}\".format(cluster, clusters[cluster]['Modelos_std'][0]))\n",
    "    print(\"{} - Media de F1 para KNN: {:.6f}\".format(cluster, clusters[cluster]['Modelos_std'][1]))\n",
    "    print(\"{} - Media de F1 para Random Forest: {:.6f}\".format(cluster, clusters[cluster]['Modelos_tree'][0]))\n",
    "    print(\"{} - Media de F1 para Decision Tree: {:.6f}\".format(cluster, clusters[cluster]['Modelos_tree'][1]))\n",
    "    print(\"{} - Media de F1 para AdaBoost: {:.6f}\".format(cluster, clusters[cluster]['Modelos_tree'][2]))"
   ]
  },
  {
   "cell_type": "markdown",
   "metadata": {},
   "source": [
    "Es notable como al balancear el dataset mejoran sustancialmente los modelos de regresión logística y KNN, sobre todo éste último. No se observan grandes variaciones para los modelos basados en árboles o ensamblados."
   ]
  },
  {
   "cell_type": "markdown",
   "metadata": {},
   "source": [
    "#### Dataset (2)"
   ]
  },
  {
   "cell_type": "code",
   "execution_count": 96,
   "metadata": {},
   "outputs": [],
   "source": [
    "features = ['MinTemp', 'MaxTemp', 'Rainfall', 'Evaporation', 'Sunshine',\n",
    "       'WindGustSpeed', 'WindSpeed9am', 'WindSpeed3pm', 'Humidity9am',\n",
    "       'Humidity3pm', 'Pressure9am', 'Pressure3pm', 'Cloud9am', 'Cloud3pm',\n",
    "       'Temp9am', 'Temp3pm', 'Day', 'RainToday_enc', 'WGD_E', 'WGD_ENE',\n",
    "       'WGD_ESE', 'WGD_Missing', 'WGD_N', 'WGD_NE', 'WGD_NNE', 'WGD_NNW',\n",
    "       'WGD_NW', 'WGD_S', 'WGD_SE', 'WGD_SSE', 'WGD_SSW', 'WGD_SW', 'WGD_W',\n",
    "       'WGD_WNW', 'WGD_WSW', 'WD9_E', 'WD9_ENE', 'WD9_ESE', 'WD9_Missing',\n",
    "       'WD9_N', 'WD9_NE', 'WD9_NNE', 'WD9_NNW', 'WD9_NW', 'WD9_S', 'WD9_SE',\n",
    "       'WD9_SSE', 'WD9_SSW', 'WD9_SW', 'WD9_W', 'WD9_WNW', 'WD9_WSW', 'WD3_E',\n",
    "       'WD3_ENE', 'WD3_ESE', 'WD3_Missing', 'WD3_N', 'WD3_NE', 'WD3_NNE',\n",
    "       'WD3_NNW', 'WD3_NW', 'WD3_S', 'WD3_SE', 'WD3_SSE', 'WD3_SSW', 'WD3_SW',\n",
    "       'WD3_W', 'WD3_WNW', 'WD3_WSW', '2007.0', '2010.0', '2011.0',\n",
    "       '2012.0', '2015.0', '2016.0', 'Day_sin', 'Day_cos', 'Island', 'dist2coast',\n",
    "        'Cluster_ac_0', 'Cluster_ac_1', 'Cluster_ac_2',\n",
    "       'Cluster_ac_3', 'Cluster_ac_4', 'Cluster_ac_5', 'Cluster_ac_6']"
   ]
  },
  {
   "cell_type": "code",
   "execution_count": 97,
   "metadata": {},
   "outputs": [
    {
     "name": "stdout",
     "output_type": "stream",
     "text": [
      "Finalizado modelo: LogisticRegression(max_iter=1000)\n",
      "Finalizado modelo: KNeighborsClassifier(n_neighbors=3)\n",
      "Finalizado modelo: RandomForestClassifier(class_weight='balanced', max_depth=12, random_state=0)\n",
      "Finalizado modelo: DecisionTreeClassifier(max_depth=16, max_features='sqrt')\n",
      "Finalizado modelo: AdaBoostClassifier()\n"
     ]
    }
   ],
   "source": [
    "results=[]\n",
    "results_tree = []\n",
    "\n",
    "results = kfold_model_evaluation_smote(X_train_wdc[features], y_train, modelos_std, \"std\", 'f1')\n",
    "results_tree = kfold_model_evaluation_smote(X_train_wdc[features], y_train, modelos_tree, None, 'f1')"
   ]
  },
  {
   "cell_type": "code",
   "execution_count": 98,
   "metadata": {},
   "outputs": [
    {
     "data": {
      "text/plain": [
       "Text(0, 0.5, 'F1')"
      ]
     },
     "execution_count": 98,
     "metadata": {},
     "output_type": "execute_result"
    },
    {
     "data": {
      "image/png": "[encoded data removed]",
      "text/plain": [
       "<Figure size 1008x432 with 1 Axes>"
      ]
     },
     "metadata": {
      "needs_background": "light"
     },
     "output_type": "display_data"
    }
   ],
   "source": [
    "fig,axes = plt.subplots(1,figsize=(14,6))\n",
    "\n",
    "labels_std = ['Logistic Regression', 'KNN']\n",
    "labels_tree = ['Random Forest', 'Decision Tree', 'AdaBoost']\n",
    "\n",
    "axes.boxplot(np.vstack((results, results_tree)).T, labels = labels_std+labels_tree, showmeans=True)\n",
    "\n",
    "axes.set_xlabel(\"Modelos\")\n",
    "axes.set_ylabel(\"F1\")"
   ]
  },
  {
   "cell_type": "code",
   "execution_count": 99,
   "metadata": {},
   "outputs": [
    {
     "name": "stdout",
     "output_type": "stream",
     "text": [
      "Agglomerative + Features Temporales Balanceado - Media de F1 para Regresión Logística: 0.627708\n",
      "Agglomerative + Features Temporales Balanceado - Media de F1 para KNN: 0.494797\n",
      "Agglomerative + Features Temporales Balanceado - Media de F1 para Random Forest: 0.644535\n",
      "Agglomerative + Features Temporales Balanceado - Media de F1 para Decision Tree: 0.568037\n",
      "Agglomerative + Features Temporales Balanceado - Media de F1 para AdaBoost: 0.606557\n"
     ]
    }
   ],
   "source": [
    "results_wdc.append({'Modelos_std': np.mean(results, axis=1), 'Modelos_tree': np.mean(results_tree, axis=1)})\n",
    "\n",
    "results_total = results_wdc[-1]\n",
    "\n",
    "clusters = {'Agglomerative + Features Temporales Balanceado':results_total}\n",
    "\n",
    "for cluster in clusters.keys():\n",
    "    print(\"{} - Media de F1 para Regresión Logística: {:.6f}\".format(cluster, clusters[cluster]['Modelos_std'][0]))\n",
    "    print(\"{} - Media de F1 para KNN: {:.6f}\".format(cluster, clusters[cluster]['Modelos_std'][1]))\n",
    "    print(\"{} - Media de F1 para Random Forest: {:.6f}\".format(cluster, clusters[cluster]['Modelos_tree'][0]))\n",
    "    print(\"{} - Media de F1 para Decision Tree: {:.6f}\".format(cluster, clusters[cluster]['Modelos_tree'][1]))\n",
    "    print(\"{} - Media de F1 para AdaBoost: {:.6f}\".format(cluster, clusters[cluster]['Modelos_tree'][2]))"
   ]
  },
  {
   "cell_type": "markdown",
   "metadata": {},
   "source": [
    "Nuevamente, en éste caso se evidencia una mejora en el modelo de regresión logística pero empeora sustancialmente el modelo de vecinos cercanos."
   ]
  },
  {
   "cell_type": "markdown",
   "metadata": {},
   "source": [
    "#### Dataset (3)"
   ]
  },
  {
   "cell_type": "code",
   "execution_count": 100,
   "metadata": {},
   "outputs": [],
   "source": [
    "features = ['MinTemp', 'MaxTemp', 'Rainfall', 'Evaporation', 'Sunshine',\n",
    "       'WindGustSpeed', 'WindSpeed9am', 'WindSpeed3pm', 'Humidity9am',\n",
    "       'Humidity3pm', 'Pressure9am', 'Pressure3pm', 'Cloud9am', 'Cloud3pm',\n",
    "       'Temp9am', 'Temp3pm', 'Day', 'RainToday_enc', 'WGD_deg_sin',\n",
    "       'WGD_deg_cos', 'WD9_deg_sin', 'WD9_deg_cos', 'WD3_deg_sin',\n",
    "       'WD3_deg_cos', '2007.0', '2010.0', '2011.0',\n",
    "       '2012.0', '2015.0', '2016.0', 'Day_sin', 'Day_cos', 'Island', 'dist2coast',\n",
    "        'Cluster_ac_0', 'Cluster_ac_1', 'Cluster_ac_2',\n",
    "       'Cluster_ac_3', 'Cluster_ac_4', 'Cluster_ac_5', 'Cluster_ac_6']"
   ]
  },
  {
   "cell_type": "code",
   "execution_count": 101,
   "metadata": {},
   "outputs": [
    {
     "name": "stdout",
     "output_type": "stream",
     "text": [
      "Finalizado modelo: LogisticRegression(max_iter=1000)\n",
      "Finalizado modelo: KNeighborsClassifier(n_neighbors=3)\n",
      "Finalizado modelo: RandomForestClassifier(class_weight='balanced', max_depth=12, random_state=0)\n",
      "Finalizado modelo: DecisionTreeClassifier(max_depth=16, max_features='sqrt')\n",
      "Finalizado modelo: AdaBoostClassifier()\n"
     ]
    }
   ],
   "source": [
    "results=[]\n",
    "results_tree = []\n",
    "\n",
    "results = kfold_model_evaluation_smote(X_train_wdn[features], y_train_wdn, modelos_std, \"std\", 'f1')\n",
    "results_tree = kfold_model_evaluation_smote(X_train_wdn[features], y_train_wdn, modelos_tree, None, 'f1')"
   ]
  },
  {
   "cell_type": "code",
   "execution_count": 102,
   "metadata": {},
   "outputs": [
    {
     "data": {
      "text/plain": [
       "Text(0, 0.5, 'F1')"
      ]
     },
     "execution_count": 102,
     "metadata": {},
     "output_type": "execute_result"
    },
    {
     "data": {
      "image/png": "[encoded data removed]",
      "text/plain": [
       "<Figure size 1008x432 with 1 Axes>"
      ]
     },
     "metadata": {
      "needs_background": "light"
     },
     "output_type": "display_data"
    }
   ],
   "source": [
    "fig,axes = plt.subplots(1,figsize=(14,6))\n",
    "\n",
    "labels_std = ['Logistic Regression', 'KNN']\n",
    "labels_tree = ['Random Forest', 'Decision Tree', 'AdaBoost']\n",
    "\n",
    "axes.boxplot(np.vstack((results, results_tree)).T, labels = labels_std+labels_tree, showmeans=True)\n",
    "\n",
    "axes.set_xlabel(\"Modelos\")\n",
    "axes.set_ylabel(\"F1\")"
   ]
  },
  {
   "cell_type": "code",
   "execution_count": 103,
   "metadata": {},
   "outputs": [
    {
     "name": "stdout",
     "output_type": "stream",
     "text": [
      "Agglomerative + Features Temporales Balanceado - Media de F1 para Regresión Logística: 0.632290\n",
      "Agglomerative + Features Temporales Balanceado - Media de F1 para KNN: 0.601781\n",
      "Agglomerative + Features Temporales Balanceado - Media de F1 para Random Forest: 0.659099\n",
      "Agglomerative + Features Temporales Balanceado - Media de F1 para Decision Tree: 0.558106\n",
      "Agglomerative + Features Temporales Balanceado - Media de F1 para AdaBoost: 0.613983\n"
     ]
    }
   ],
   "source": [
    "results_wdn.append({'Modelos_std': np.mean(results, axis=1), 'Modelos_tree': np.mean(results_tree, axis=1)})\n",
    "\n",
    "results_total = results_wdn[-1]\n",
    "\n",
    "clusters = {'Agglomerative + Features Temporales Balanceado':results_total}\n",
    "\n",
    "for cluster in clusters.keys():\n",
    "    print(\"{} - Media de F1 para Regresión Logística: {:.6f}\".format(cluster, clusters[cluster]['Modelos_std'][0]))\n",
    "    print(\"{} - Media de F1 para KNN: {:.6f}\".format(cluster, clusters[cluster]['Modelos_std'][1]))\n",
    "    print(\"{} - Media de F1 para Random Forest: {:.6f}\".format(cluster, clusters[cluster]['Modelos_tree'][0]))\n",
    "    print(\"{} - Media de F1 para Decision Tree: {:.6f}\".format(cluster, clusters[cluster]['Modelos_tree'][1]))\n",
    "    print(\"{} - Media de F1 para AdaBoost: {:.6f}\".format(cluster, clusters[cluster]['Modelos_tree'][2]))"
   ]
  },
  {
   "cell_type": "markdown",
   "metadata": {},
   "source": [
    "Al igual que ocurrió con el dataset sin balancear, se tienen los mejores resultados entre las tres técnicas de tratamiento de valores faltantes. El hecho de haber balanceado el dataset impactó significativamente en la mejora del score para Regresión Logística, Random Forest y AdaBoost. Se utilizará por lo tanto éste dataset para evaluar el dataset de validación."
   ]
  },
  {
   "cell_type": "markdown",
   "metadata": {},
   "source": [
    "## Evaluación de Resultados"
   ]
  },
  {
   "cell_type": "markdown",
   "metadata": {},
   "source": [
    "A continuación, vamos a evaluar los resultados para los modelos elegidos sobre el dataset de validación. Para ello, se utilizarán los imputers, scalers y encoders de la sección anterior."
   ]
  },
  {
   "cell_type": "code",
   "execution_count": 108,
   "metadata": {},
   "outputs": [],
   "source": [
    "X_test = pd.read_csv(\"X_test.csv\")\n",
    "\n",
    "with open('y_test.pkl', 'rb') as f:\n",
    "    y_test = pickle.load(f)"
   ]
  },
  {
   "cell_type": "code",
   "execution_count": 109,
   "metadata": {},
   "outputs": [
    {
     "data": {
      "text/plain": [
       "((28439, 28), (28439,))"
      ]
     },
     "execution_count": 109,
     "metadata": {},
     "output_type": "execute_result"
    }
   ],
   "source": [
    "X_test.shape, y_test.shape"
   ]
  },
  {
   "cell_type": "code",
   "execution_count": 111,
   "metadata": {},
   "outputs": [
    {
     "data": {
      "text/plain": [
       "pandas.core.series.Series"
      ]
     },
     "execution_count": 111,
     "metadata": {},
     "output_type": "execute_result"
    }
   ],
   "source": [
    "type(y_test)"
   ]
  },
  {
   "cell_type": "code",
   "execution_count": 110,
   "metadata": {},
   "outputs": [
    {
     "data": {
      "text/plain": [
       "Date                 0\n",
       "Location             0\n",
       "MinTemp            124\n",
       "MaxTemp             64\n",
       "Rainfall           275\n",
       "Evaporation      12148\n",
       "Sunshine         13472\n",
       "WindGustDir       1845\n",
       "WindGustSpeed     1830\n",
       "WindDir9am        1958\n",
       "WindDir3pm         712\n",
       "WindSpeed9am       266\n",
       "WindSpeed3pm       500\n",
       "Humidity9am        356\n",
       "Humidity3pm        713\n",
       "Pressure9am       2727\n",
       "Pressure3pm       2719\n",
       "Cloud9am         10780\n",
       "Cloud3pm         11425\n",
       "Temp9am            169\n",
       "Temp3pm            523\n",
       "RainToday          275\n",
       "Latitude             0\n",
       "Longitude            0\n",
       "Day                  0\n",
       "Month                0\n",
       "Year                 0\n",
       "RainToday_enc        0\n",
       "dtype: int64"
      ]
     },
     "execution_count": 110,
     "metadata": {},
     "output_type": "execute_result"
    }
   ],
   "source": [
    "X_test.isna().sum()"
   ]
  },
  {
   "cell_type": "markdown",
   "metadata": {},
   "source": [
    "#### Eliminamos NaNs de RainToday"
   ]
  },
  {
   "cell_type": "code",
   "execution_count": 112,
   "metadata": {},
   "outputs": [],
   "source": [
    "idx_rt_nan = X_test['RainToday'].isna()==False"
   ]
  },
  {
   "cell_type": "code",
   "execution_count": 113,
   "metadata": {},
   "outputs": [
    {
     "data": {
      "text/plain": [
       "0    True\n",
       "1    True\n",
       "2    True\n",
       "3    True\n",
       "4    True\n",
       "Name: RainToday, dtype: bool"
      ]
     },
     "execution_count": 113,
     "metadata": {},
     "output_type": "execute_result"
    }
   ],
   "source": [
    "idx_rt_nan[:5]"
   ]
  },
  {
   "cell_type": "code",
   "execution_count": 115,
   "metadata": {},
   "outputs": [],
   "source": [
    "y_test = np.array(y_test)[idx_rt_nan]"
   ]
  },
  {
   "cell_type": "code",
   "execution_count": 117,
   "metadata": {},
   "outputs": [],
   "source": [
    "X_test.dropna(subset=['RainToday'], inplace=True)"
   ]
  },
  {
   "cell_type": "code",
   "execution_count": 118,
   "metadata": {},
   "outputs": [
    {
     "data": {
      "text/plain": [
       "((28164, 28), (28164,))"
      ]
     },
     "execution_count": 118,
     "metadata": {},
     "output_type": "execute_result"
    }
   ],
   "source": [
    "X_test.shape, y_test.shape"
   ]
  },
  {
   "cell_type": "markdown",
   "metadata": {},
   "source": [
    "#### Eliminamos Nans de las Direcciones del Viento"
   ]
  },
  {
   "cell_type": "code",
   "execution_count": 119,
   "metadata": {},
   "outputs": [],
   "source": [
    "mask_windir_nan = (X_test['WindDir9am'].isna()==False) & (X_test['WindDir3pm'].isna()==False) & (X_test['WindGustDir'].isna()==False) \n",
    "\n",
    "X_test = X_test.loc[mask_windir_nan].copy()\n",
    "\n",
    "y_test = y_test[mask_windir_nan]"
   ]
  },
  {
   "cell_type": "code",
   "execution_count": 120,
   "metadata": {},
   "outputs": [
    {
     "data": {
      "text/plain": [
       "((24809, 28), (24809,))"
      ]
     },
     "execution_count": 120,
     "metadata": {},
     "output_type": "execute_result"
    }
   ],
   "source": [
    "X_test.shape, y_test.shape"
   ]
  },
  {
   "cell_type": "code",
   "execution_count": 122,
   "metadata": {},
   "outputs": [
    {
     "data": {
      "text/plain": [
       "{'imputer_wdm': SimpleImputer(strategy='most_frequent'),\n",
       " 'imputer_mice': IterativeImputer(max_value=None, min_value=None)}"
      ]
     },
     "execution_count": 122,
     "metadata": {},
     "output_type": "execute_result"
    }
   ],
   "source": [
    "imputers"
   ]
  },
  {
   "cell_type": "code",
   "execution_count": 123,
   "metadata": {},
   "outputs": [
    {
     "data": {
      "text/plain": [
       "{'y_encoder': LabelEncoder(),\n",
       " 'year_encoder': OneHotEncoder(sparse=False),\n",
       " 'month_slot_ohe': OneHotEncoder(sparse=False),\n",
       " 'month_ohe': array([[1., 0., 0., ..., 0., 0., 0.],\n",
       "        [0., 0., 0., ..., 0., 0., 0.],\n",
       "        [0., 0., 0., ..., 0., 1., 0.],\n",
       "        ...,\n",
       "        [0., 0., 0., ..., 0., 0., 0.],\n",
       "        [0., 0., 0., ..., 0., 1., 0.],\n",
       "        [0., 0., 0., ..., 0., 0., 0.]]),\n",
       " 'wind_encoder': OneHotEncoder(sparse=False),\n",
       " 'wind_names': array(['WGD_E', 'WGD_ENE', 'WGD_ESE', 'WGD_Missing', 'WGD_N', 'WGD_NE',\n",
       "        'WGD_NNE', 'WGD_NNW', 'WGD_NW', 'WGD_S', 'WGD_SE', 'WGD_SSE',\n",
       "        'WGD_SSW', 'WGD_SW', 'WGD_W', 'WGD_WNW', 'WGD_WSW', 'WD9_E',\n",
       "        'WD9_ENE', 'WD9_ESE', 'WD9_Missing', 'WD9_N', 'WD9_NE', 'WD9_NNE',\n",
       "        'WD9_NNW', 'WD9_NW', 'WD9_S', 'WD9_SE', 'WD9_SSE', 'WD9_SSW',\n",
       "        'WD9_SW', 'WD9_W', 'WD9_WNW', 'WD9_WSW', 'WD3_E', 'WD3_ENE',\n",
       "        'WD3_ESE', 'WD3_Missing', 'WD3_N', 'WD3_NE', 'WD3_NNE', 'WD3_NNW',\n",
       "        'WD3_NW', 'WD3_S', 'WD3_SE', 'WD3_SSE', 'WD3_SSW', 'WD3_SW',\n",
       "        'WD3_W', 'WD3_WNW', 'WD3_WSW'], dtype='<U11'),\n",
       " 'wind_deg': {'N': 360,\n",
       "  'NNE': 22.5,\n",
       "  'NE': 45,\n",
       "  'ENE': 67.5,\n",
       "  'E': 90,\n",
       "  'ESE': 112.5,\n",
       "  'SE': 135,\n",
       "  'SSE': 157.5,\n",
       "  'S': 180,\n",
       "  'SSW': 202.5,\n",
       "  'SW': 225,\n",
       "  'WSW': 247.5,\n",
       "  'W': 270,\n",
       "  'WNW': 292.5,\n",
       "  'NW': 315,\n",
       "  'NNW': 337.5},\n",
       " 'loc_island': {'Hobart': 1,\n",
       "  'Launceston': 1,\n",
       "  'NorfolkIsland': 1,\n",
       "  'Nuriootpa': 0,\n",
       "  'NorahHead': 0,\n",
       "  'Adelaide': 0,\n",
       "  'Katherine': 0,\n",
       "  'Brisbane': 0,\n",
       "  'WaggaWagga': 0,\n",
       "  'Cairns': 0,\n",
       "  'Wollongong': 0,\n",
       "  'Moree': 0,\n",
       "  'Ballarat': 0,\n",
       "  'SalmonGums': 0,\n",
       "  'Perth': 0,\n",
       "  'SydneyAirport': 0,\n",
       "  'AliceSprings': 0,\n",
       "  'Tuggeranong': 0,\n",
       "  'MelbourneAirport': 0,\n",
       "  'PearceRAAF': 0,\n",
       "  'Woomera': 0,\n",
       "  'GoldCoast': 0,\n",
       "  'Penrith': 0,\n",
       "  'Melbourne': 0,\n",
       "  'MountGinini': 0,\n",
       "  'Newcastle': 0,\n",
       "  'PerthAirport': 0,\n",
       "  'Watsonia': 0,\n",
       "  'Cobar': 0,\n",
       "  'Townsville': 0,\n",
       "  'Williamtown': 0,\n",
       "  'Albury': 0,\n",
       "  'Sale': 0,\n",
       "  'MountGambier': 0,\n",
       "  'Bendigo': 0,\n",
       "  'Nhil': 0,\n",
       "  'Sydney': 0,\n",
       "  'BadgerysCreek': 0,\n",
       "  'Walpole': 0,\n",
       "  'Richmond': 0,\n",
       "  'Darwin': 0,\n",
       "  'Dartmoor': 0,\n",
       "  'Mildura': 0,\n",
       "  'Uluru': 0,\n",
       "  'Canberra': 0,\n",
       "  'CoffsHarbour': 0,\n",
       "  'Portland': 0,\n",
       "  'Albany': 0,\n",
       "  'Witchcliffe': 0},\n",
       " 'loc_distc': {'Albury': 209.83700000000002,\n",
       "  'BadgerysCreek': 32.9301,\n",
       "  'Cobar': 554.462,\n",
       "  'CoffsHarbour': 3.87535,\n",
       "  'Moree': 329.478,\n",
       "  'Newcastle': 1.40042,\n",
       "  'NorahHead': 0.964799,\n",
       "  'NorfolkIsland': 0.768836,\n",
       "  'Penrith': 46.2324,\n",
       "  'Richmond': 398.20099999999996,\n",
       "  'Sydney': 1.9009,\n",
       "  'SydneyAirport': 0.878431,\n",
       "  'WaggaWagga': 264.079,\n",
       "  'Williamtown': 5.68829,\n",
       "  'Wollongong': 3.68025,\n",
       "  'Canberra': 107.355,\n",
       "  'Tuggeranong': 103.87899999999999,\n",
       "  'MountGinini': 129.964,\n",
       "  'Ballarat': 76.1409,\n",
       "  'Bendigo': 135.46200000000002,\n",
       "  'Sale': 30.7844,\n",
       "  'MelbourneAirport': 22.1106,\n",
       "  'Melbourne': 7.0582,\n",
       "  'Mildura': 310.23900000000003,\n",
       "  'Nhil': 166.71900000000002,\n",
       "  'Portland': 2.8398,\n",
       "  'Watsonia': 19.5368,\n",
       "  'Dartmoor': 27.3689,\n",
       "  'Brisbane': 6.912889999999999,\n",
       "  'Cairns': 2.4219999999999997,\n",
       "  'GoldCoast': 5.1717,\n",
       "  'Townsville': 3.09306,\n",
       "  'Adelaide': 8.21203,\n",
       "  'MountGambier': 25.2367,\n",
       "  'Nuriootpa': 51.4468,\n",
       "  'Woomera': 167.111,\n",
       "  'Albany': 1.04481,\n",
       "  'Witchcliffe': 9.797939999999999,\n",
       "  'PearceRAAF': 7.72515,\n",
       "  'PerthAirport': 5.87355,\n",
       "  'Perth': 2.03056,\n",
       "  'SalmonGums': 94.1911,\n",
       "  'Walpole': 5.86522,\n",
       "  'Hobart': 2.05463,\n",
       "  'Launceston': 27.5488,\n",
       "  'AliceSprings': 888.945,\n",
       "  'Darwin': 0.279721,\n",
       "  'Katherine': 236.108,\n",
       "  'Uluru': 678.888},\n",
       " 'loc_clust_hd': OneHotEncoder(sparse=False),\n",
       " 'loc_clust_ac': OneHotEncoder(sparse=False),\n",
       " 'loc_clust_opt': OneHotEncoder(sparse=False)}"
      ]
     },
     "execution_count": 123,
     "metadata": {},
     "output_type": "execute_result"
    }
   ],
   "source": [
    "encoders"
   ]
  },
  {
   "cell_type": "code",
   "execution_count": 129,
   "metadata": {},
   "outputs": [
    {
     "data": {
      "text/plain": [
       "{'scaler_imputer': StandardScaler()}"
      ]
     },
     "execution_count": 129,
     "metadata": {},
     "output_type": "execute_result"
    }
   ],
   "source": [
    "scalers"
   ]
  },
  {
   "cell_type": "markdown",
   "metadata": {},
   "source": [
    "#### Codificación variable de salida"
   ]
  },
  {
   "cell_type": "code",
   "execution_count": 124,
   "metadata": {},
   "outputs": [],
   "source": [
    "y_test = encoders['y_encoder'].transform(y_test)"
   ]
  },
  {
   "cell_type": "code",
   "execution_count": 125,
   "metadata": {},
   "outputs": [
    {
     "data": {
      "text/plain": [
       "array([0, 1])"
      ]
     },
     "execution_count": 125,
     "metadata": {},
     "output_type": "execute_result"
    }
   ],
   "source": [
    "y_test[:2]"
   ]
  },
  {
   "cell_type": "markdown",
   "metadata": {},
   "source": [
    "#### Codificación RainToday"
   ]
  },
  {
   "cell_type": "code",
   "execution_count": 126,
   "metadata": {},
   "outputs": [],
   "source": [
    "X_test['RainToday_enc'] = X_test['RainToday'].apply(lambda x: 1 if x == 'Yes' else 0 if x == 'No' else -1)"
   ]
  },
  {
   "cell_type": "markdown",
   "metadata": {},
   "source": [
    "#### Procesamiento Fecha"
   ]
  },
  {
   "cell_type": "code",
   "execution_count": 127,
   "metadata": {},
   "outputs": [],
   "source": [
    "X_test['Date'] = pd.to_datetime(X_test['Date'])\n",
    "X_test['Day'] = X_test['Date'].dt.day\n",
    "X_test['Month'] = X_test['Date'].dt.month\n",
    "X_test['Year'] = X_test['Date'].dt.year"
   ]
  },
  {
   "cell_type": "markdown",
   "metadata": {},
   "source": [
    "#### Imputación por MICE"
   ]
  },
  {
   "cell_type": "code",
   "execution_count": 128,
   "metadata": {},
   "outputs": [],
   "source": [
    "# Features a utilizar en MICE\n",
    "\n",
    "cols = ['MinTemp', 'MaxTemp', 'Rainfall', 'Evaporation', 'Sunshine',\n",
    "       'WindGustSpeed', 'WindSpeed9am', 'WindSpeed3pm', 'Humidity9am',\n",
    "       'Humidity3pm', 'Pressure9am', 'Pressure3pm', 'Cloud9am', 'Cloud3pm',\n",
    "       'Temp9am', 'Temp3pm', 'RainToday_enc', 'Day', 'Month', 'Year']"
   ]
  },
  {
   "cell_type": "code",
   "execution_count": 131,
   "metadata": {},
   "outputs": [],
   "source": [
    "x_test_imputer = pd.DataFrame(scalers['scaler_imputer'].transform(X_test[cols]), columns = X_test[cols].columns)"
   ]
  },
  {
   "cell_type": "code",
   "execution_count": 132,
   "metadata": {},
   "outputs": [
    {
     "data": {
      "text/html": [
       "<div>\n",
       "<style scoped>\n",
       "    .dataframe tbody tr th:only-of-type {\n",
       "        vertical-align: middle;\n",
       "    }\n",
       "\n",
       "    .dataframe tbody tr th {\n",
       "        vertical-align: top;\n",
       "    }\n",
       "\n",
       "    .dataframe thead th {\n",
       "        text-align: right;\n",
       "    }\n",
       "</style>\n",
       "<table border=\"1\" class=\"dataframe\">\n",
       "  <thead>\n",
       "    <tr style=\"text-align: right;\">\n",
       "      <th></th>\n",
       "      <th>MinTemp</th>\n",
       "      <th>MaxTemp</th>\n",
       "      <th>Rainfall</th>\n",
       "      <th>Evaporation</th>\n",
       "      <th>Sunshine</th>\n",
       "      <th>WindGustSpeed</th>\n",
       "      <th>WindSpeed9am</th>\n",
       "      <th>WindSpeed3pm</th>\n",
       "      <th>Humidity9am</th>\n",
       "      <th>Humidity3pm</th>\n",
       "      <th>Pressure9am</th>\n",
       "      <th>Pressure3pm</th>\n",
       "      <th>Cloud9am</th>\n",
       "      <th>Cloud3pm</th>\n",
       "      <th>Temp9am</th>\n",
       "      <th>Temp3pm</th>\n",
       "      <th>RainToday_enc</th>\n",
       "      <th>Day</th>\n",
       "      <th>Month</th>\n",
       "      <th>Year</th>\n",
       "    </tr>\n",
       "  </thead>\n",
       "  <tbody>\n",
       "    <tr>\n",
       "      <th>0</th>\n",
       "      <td>0.457071</td>\n",
       "      <td>1.358919</td>\n",
       "      <td>-0.276301</td>\n",
       "      <td>NaN</td>\n",
       "      <td>NaN</td>\n",
       "      <td>0.741644</td>\n",
       "      <td>-0.786872</td>\n",
       "      <td>-0.867725</td>\n",
       "      <td>0.219057</td>\n",
       "      <td>-0.935451</td>\n",
       "      <td>-0.304128</td>\n",
       "      <td>-0.492020</td>\n",
       "      <td>0.890769</td>\n",
       "      <td>NaN</td>\n",
       "      <td>0.311131</td>\n",
       "      <td>1.241186</td>\n",
       "      <td>-0.536001</td>\n",
       "      <td>1.168904</td>\n",
       "      <td>-1.580134</td>\n",
       "      <td>1.666777</td>\n",
       "    </tr>\n",
       "    <tr>\n",
       "      <th>1</th>\n",
       "      <td>-0.588462</td>\n",
       "      <td>-0.987109</td>\n",
       "      <td>-0.276301</td>\n",
       "      <td>-0.353342</td>\n",
       "      <td>-1.40822</td>\n",
       "      <td>0.446693</td>\n",
       "      <td>1.583468</td>\n",
       "      <td>1.065316</td>\n",
       "      <td>-1.249633</td>\n",
       "      <td>1.082259</td>\n",
       "      <td>-0.895219</td>\n",
       "      <td>-0.477808</td>\n",
       "      <td>0.890769</td>\n",
       "      <td>0.919227</td>\n",
       "      <td>-0.503877</td>\n",
       "      <td>-1.020151</td>\n",
       "      <td>-0.536001</td>\n",
       "      <td>-0.421961</td>\n",
       "      <td>0.757374</td>\n",
       "      <td>-0.298756</td>\n",
       "    </tr>\n",
       "  </tbody>\n",
       "</table>\n",
       "</div>"
      ],
      "text/plain": [
       "    MinTemp   MaxTemp  Rainfall  Evaporation  Sunshine  WindGustSpeed  \\\n",
       "0  0.457071  1.358919 -0.276301          NaN       NaN       0.741644   \n",
       "1 -0.588462 -0.987109 -0.276301    -0.353342  -1.40822       0.446693   \n",
       "\n",
       "   WindSpeed9am  WindSpeed3pm  Humidity9am  Humidity3pm  Pressure9am  \\\n",
       "0     -0.786872     -0.867725     0.219057    -0.935451    -0.304128   \n",
       "1      1.583468      1.065316    -1.249633     1.082259    -0.895219   \n",
       "\n",
       "   Pressure3pm  Cloud9am  Cloud3pm   Temp9am   Temp3pm  RainToday_enc  \\\n",
       "0    -0.492020  0.890769       NaN  0.311131  1.241186      -0.536001   \n",
       "1    -0.477808  0.890769  0.919227 -0.503877 -1.020151      -0.536001   \n",
       "\n",
       "        Day     Month      Year  \n",
       "0  1.168904 -1.580134  1.666777  \n",
       "1 -0.421961  0.757374 -0.298756  "
      ]
     },
     "execution_count": 132,
     "metadata": {},
     "output_type": "execute_result"
    }
   ],
   "source": [
    "x_test_imputer.head(2)"
   ]
  },
  {
   "cell_type": "code",
   "execution_count": 133,
   "metadata": {},
   "outputs": [],
   "source": [
    "cols_imputed = imputers['imputer_mice'].transform(x_test_imputer)"
   ]
  },
  {
   "cell_type": "code",
   "execution_count": 134,
   "metadata": {},
   "outputs": [
    {
     "data": {
      "text/plain": [
       "MinTemp          0\n",
       "MaxTemp          0\n",
       "Rainfall         0\n",
       "Evaporation      0\n",
       "Sunshine         0\n",
       "WindGustSpeed    0\n",
       "WindSpeed9am     0\n",
       "WindSpeed3pm     0\n",
       "Humidity9am      0\n",
       "Humidity3pm      0\n",
       "Pressure9am      0\n",
       "Pressure3pm      0\n",
       "Cloud9am         0\n",
       "Cloud3pm         0\n",
       "Temp9am          0\n",
       "Temp3pm          0\n",
       "RainToday_enc    0\n",
       "Day              0\n",
       "Month            0\n",
       "Year             0\n",
       "dtype: int64"
      ]
     },
     "execution_count": 134,
     "metadata": {},
     "output_type": "execute_result"
    }
   ],
   "source": [
    "x_test_imputer[cols] = cols_imputed\n",
    "x_test_imputer.isna().sum()"
   ]
  },
  {
   "cell_type": "code",
   "execution_count": 135,
   "metadata": {},
   "outputs": [],
   "source": [
    "x_test_imputer = scalers['scaler_imputer'].inverse_transform(x_test_imputer)"
   ]
  },
  {
   "cell_type": "code",
   "execution_count": 136,
   "metadata": {},
   "outputs": [],
   "source": [
    "X_test.loc[:, cols] = x_test_imputer"
   ]
  },
  {
   "cell_type": "code",
   "execution_count": 137,
   "metadata": {},
   "outputs": [
    {
     "data": {
      "text/html": [
       "<div>\n",
       "<style scoped>\n",
       "    .dataframe tbody tr th:only-of-type {\n",
       "        vertical-align: middle;\n",
       "    }\n",
       "\n",
       "    .dataframe tbody tr th {\n",
       "        vertical-align: top;\n",
       "    }\n",
       "\n",
       "    .dataframe thead th {\n",
       "        text-align: right;\n",
       "    }\n",
       "</style>\n",
       "<table border=\"1\" class=\"dataframe\">\n",
       "  <thead>\n",
       "    <tr style=\"text-align: right;\">\n",
       "      <th></th>\n",
       "      <th>Date</th>\n",
       "      <th>Location</th>\n",
       "      <th>MinTemp</th>\n",
       "      <th>MaxTemp</th>\n",
       "      <th>Rainfall</th>\n",
       "      <th>Evaporation</th>\n",
       "      <th>Sunshine</th>\n",
       "      <th>WindGustDir</th>\n",
       "      <th>WindGustSpeed</th>\n",
       "      <th>WindDir9am</th>\n",
       "      <th>...</th>\n",
       "      <th>Cloud3pm</th>\n",
       "      <th>Temp9am</th>\n",
       "      <th>Temp3pm</th>\n",
       "      <th>RainToday</th>\n",
       "      <th>Latitude</th>\n",
       "      <th>Longitude</th>\n",
       "      <th>Day</th>\n",
       "      <th>Month</th>\n",
       "      <th>Year</th>\n",
       "      <th>RainToday_enc</th>\n",
       "    </tr>\n",
       "  </thead>\n",
       "  <tbody>\n",
       "    <tr>\n",
       "      <th>0</th>\n",
       "      <td>2017-01-26</td>\n",
       "      <td>Canberra</td>\n",
       "      <td>15.1</td>\n",
       "      <td>32.9</td>\n",
       "      <td>0.0</td>\n",
       "      <td>8.121207</td>\n",
       "      <td>6.69165</td>\n",
       "      <td>E</td>\n",
       "      <td>50.0</td>\n",
       "      <td>E</td>\n",
       "      <td>...</td>\n",
       "      <td>5.447002</td>\n",
       "      <td>19.0</td>\n",
       "      <td>30.3</td>\n",
       "      <td>No</td>\n",
       "      <td>-35.297591</td>\n",
       "      <td>149.101268</td>\n",
       "      <td>26.0</td>\n",
       "      <td>1.0</td>\n",
       "      <td>2017.0</td>\n",
       "      <td>0.0</td>\n",
       "    </tr>\n",
       "  </tbody>\n",
       "</table>\n",
       "<p>1 rows × 28 columns</p>\n",
       "</div>"
      ],
      "text/plain": [
       "        Date  Location  MinTemp  MaxTemp  Rainfall  Evaporation  Sunshine  \\\n",
       "0 2017-01-26  Canberra     15.1     32.9       0.0     8.121207   6.69165   \n",
       "\n",
       "  WindGustDir  WindGustSpeed WindDir9am  ...  Cloud3pm  Temp9am  Temp3pm  \\\n",
       "0           E           50.0          E  ...  5.447002     19.0     30.3   \n",
       "\n",
       "   RainToday   Latitude   Longitude   Day  Month    Year  RainToday_enc  \n",
       "0         No -35.297591  149.101268  26.0    1.0  2017.0            0.0  \n",
       "\n",
       "[1 rows x 28 columns]"
      ]
     },
     "execution_count": 137,
     "metadata": {},
     "output_type": "execute_result"
    }
   ],
   "source": [
    "X_test.head(1)"
   ]
  },
  {
   "cell_type": "code",
   "execution_count": 138,
   "metadata": {},
   "outputs": [
    {
     "data": {
      "text/plain": [
       "0"
      ]
     },
     "execution_count": 138,
     "metadata": {},
     "output_type": "execute_result"
    }
   ],
   "source": [
    "X_test.isna().sum().sum()"
   ]
  },
  {
   "cell_type": "markdown",
   "metadata": {},
   "source": [
    "#### Codificaciones"
   ]
  },
  {
   "cell_type": "markdown",
   "metadata": {},
   "source": [
    "##### Año"
   ]
  },
  {
   "cell_type": "code",
   "execution_count": 139,
   "metadata": {},
   "outputs": [],
   "source": [
    "def add_features(df_orig, data, columns):    \n",
    "    df_orig = pd.concat(\n",
    "        [\n",
    "            df_orig,\n",
    "            pd.DataFrame(\n",
    "                data, \n",
    "                index=df_orig.index, \n",
    "                columns=columns\n",
    "            )\n",
    "        ], axis=1\n",
    "    )\n",
    "    return df_orig"
   ]
  },
  {
   "cell_type": "code",
   "execution_count": 140,
   "metadata": {},
   "outputs": [],
   "source": [
    "years_encoded = encoders['year_encoder'].transform(X_test['Year'].values.reshape(-1, 1))\n",
    "cat_names = np.array(encoders['year_encoder'].categories_).ravel()"
   ]
  },
  {
   "cell_type": "code",
   "execution_count": 141,
   "metadata": {},
   "outputs": [],
   "source": [
    "X_test = add_features(X_test, years_encoded, cat_names)"
   ]
  },
  {
   "cell_type": "code",
   "execution_count": 148,
   "metadata": {},
   "outputs": [
    {
     "data": {
      "text/plain": [
       "0    0.0\n",
       "1    0.0\n",
       "Name: 2008.0, dtype: float64"
      ]
     },
     "execution_count": 148,
     "metadata": {},
     "output_type": "execute_result"
    }
   ],
   "source": [
    "X_test[2008.].head(2)"
   ]
  },
  {
   "cell_type": "markdown",
   "metadata": {},
   "source": [
    "##### Día y Mes"
   ]
  },
  {
   "cell_type": "code",
   "execution_count": 151,
   "metadata": {},
   "outputs": [],
   "source": [
    "X_test['DoY'] = X_test['Date'].apply(lambda x: pd.Period(x, 'h').dayofyear)\n",
    "\n",
    "day_sin = np.sin((X_test['DoY'] -1) * (2. * np.pi / 365))\n",
    "day_cos = np.cos((X_test['DoY'] -1) * (2. * np.pi / 365))\n",
    "\n",
    "cols = ['Day_sin', 'Day_cos']\n",
    "X_test = add_features(X_test, np.vstack((day_sin, day_cos)).T, cols)"
   ]
  },
  {
   "cell_type": "code",
   "execution_count": 152,
   "metadata": {},
   "outputs": [
    {
     "data": {
      "text/plain": [
       "(-0.9999907397361901, 0.9999907397361901)"
      ]
     },
     "execution_count": 152,
     "metadata": {},
     "output_type": "execute_result"
    }
   ],
   "source": [
    "X_test['Day_sin'].min(), X_test['Day_sin'].max()"
   ]
  },
  {
   "cell_type": "markdown",
   "metadata": {},
   "source": [
    "##### Dirección del Viento"
   ]
  },
  {
   "cell_type": "code",
   "execution_count": 153,
   "metadata": {},
   "outputs": [],
   "source": [
    "wind_dict = encoders['wind_deg']"
   ]
  },
  {
   "cell_type": "code",
   "execution_count": 154,
   "metadata": {},
   "outputs": [],
   "source": [
    "cols = ['WindGustDir', 'WindDir9am', 'WindDir3pm']\n",
    "abb = {'WindGustDir':'WGD', 'WindDir9am':'WD9', 'WindDir3pm':'WD3'}\n",
    "\n",
    "for col in cols: \n",
    "    mask = X_test[col].isna()==False\n",
    "    colname = abb[col] + \"_\" + \"deg\"\n",
    "    sin_colname = colname + \"_sin\"\n",
    "    cos_colname = colname + \"_cos\"\n",
    "    \n",
    "    wind_data = X_test.loc[mask, col].apply(lambda x: wind_dict[x]) \n",
    "    wind_sin = np.sin((wind_data - 22.5) * (2. * np.pi / 360))\n",
    "    wind_cos = np.cos((wind_data - 22.5) * (2. * np.pi / 360))\n",
    "    \n",
    "    X_test.loc[mask, sin_colname] = wind_sin\n",
    "    X_test.loc[mask, cos_colname] = wind_cos"
   ]
  },
  {
   "cell_type": "markdown",
   "metadata": {},
   "source": [
    "##### Ubicación"
   ]
  },
  {
   "cell_type": "code",
   "execution_count": 156,
   "metadata": {},
   "outputs": [],
   "source": [
    "X_test['Island'] = X_test['Location'].apply(lambda x: encoders['loc_island'].setdefault(x, 0))"
   ]
  },
  {
   "cell_type": "code",
   "execution_count": 157,
   "metadata": {},
   "outputs": [],
   "source": [
    "X_test['dist2coast'] = X_test['Location'].apply(lambda x: encoders['loc_distc'][x])"
   ]
  },
  {
   "cell_type": "code",
   "execution_count": 158,
   "metadata": {},
   "outputs": [],
   "source": [
    "X_test['Cluster_ac'] = X_test['Location'].apply(lambda x: clusters['agg'][x])"
   ]
  },
  {
   "cell_type": "code",
   "execution_count": 159,
   "metadata": {},
   "outputs": [],
   "source": [
    "ac_encoded = encoders['loc_clust_ac'].transform(X_test['Cluster_ac'].values.reshape(-1, 1))\n",
    "ac_names = encoders['loc_clust_ac'].get_feature_names(['Cluster_ac'])\n",
    "X_test = add_features(X_test, ac_encoded, ac_names)"
   ]
  },
  {
   "cell_type": "markdown",
   "metadata": {},
   "source": [
    "#### Verificamos el Dataset Final"
   ]
  },
  {
   "cell_type": "code",
   "execution_count": 160,
   "metadata": {},
   "outputs": [
    {
     "data": {
      "text/plain": [
       "((24809, 58), (24809,))"
      ]
     },
     "execution_count": 160,
     "metadata": {},
     "output_type": "execute_result"
    }
   ],
   "source": [
    "X_test.shape, y_test.shape"
   ]
  },
  {
   "cell_type": "code",
   "execution_count": 161,
   "metadata": {},
   "outputs": [
    {
     "data": {
      "text/plain": [
       "0"
      ]
     },
     "execution_count": 161,
     "metadata": {},
     "output_type": "execute_result"
    }
   ],
   "source": [
    "X_test.isna().sum().sum()"
   ]
  },
  {
   "cell_type": "markdown",
   "metadata": {},
   "source": [
    "### Evaluación"
   ]
  },
  {
   "cell_type": "code",
   "execution_count": 162,
   "metadata": {},
   "outputs": [],
   "source": [
    "from sklearn.tree import export_graphviz \n",
    "from sklearn.metrics import roc_curve, auc \n",
    "from sklearn.metrics import classification_report \n",
    "from sklearn.metrics import confusion_matrix"
   ]
  },
  {
   "cell_type": "code",
   "execution_count": 179,
   "metadata": {},
   "outputs": [],
   "source": [
    "features = ['MinTemp', 'MaxTemp', 'Rainfall', 'Evaporation', 'Sunshine',\n",
    "       'WindGustSpeed', 'WindSpeed9am', 'WindSpeed3pm', 'Humidity9am',\n",
    "       'Humidity3pm', 'Pressure9am', 'Pressure3pm', 'Cloud9am', 'Cloud3pm',\n",
    "       'Temp9am', 'Temp3pm', 'Day', 'RainToday_enc', 'WGD_deg_sin',\n",
    "       'WGD_deg_cos', 'WD9_deg_sin', 'WD9_deg_cos', 'WD3_deg_sin',\n",
    "       'WD3_deg_cos', 2007.0, 2010.0, 2011.0,\n",
    "       2012.0, 2015.0, 2016.0, 'Day_sin', 'Day_cos', 'Island', 'dist2coast',\n",
    "        'Cluster_ac_0', 'Cluster_ac_1', 'Cluster_ac_2',\n",
    "       'Cluster_ac_3', 'Cluster_ac_4', 'Cluster_ac_5', 'Cluster_ac_6']"
   ]
  },
  {
   "cell_type": "markdown",
   "metadata": {},
   "source": [
    "#### Regresión Logística"
   ]
  },
  {
   "cell_type": "code",
   "execution_count": 164,
   "metadata": {},
   "outputs": [],
   "source": [
    "# Regresión Logística\n",
    "\n",
    "model = LogisticRegression(max_iter=1000)\n",
    "\n",
    "pipeline =  imbpipeline(steps = [['smote', SMOTE(random_state=11)],\n",
    "                                 ['scaler', StandardScaler()],\n",
    "                                 ['model', model]])"
   ]
  },
  {
   "cell_type": "code",
   "execution_count": 165,
   "metadata": {},
   "outputs": [
    {
     "data": {
      "text/plain": [
       "Pipeline(steps=[('smote', SMOTE(random_state=11)), ('scaler', StandardScaler()),\n",
       "                ['model', LogisticRegression(max_iter=1000)]])"
      ]
     },
     "execution_count": 165,
     "metadata": {},
     "output_type": "execute_result"
    }
   ],
   "source": [
    "pipeline.fit(X_train_wdn[features], y_train_wdn)"
   ]
  },
  {
   "cell_type": "code",
   "execution_count": 169,
   "metadata": {},
   "outputs": [],
   "source": [
    "lr_predict = pipeline.predict(X_test[features])"
   ]
  },
  {
   "cell_type": "code",
   "execution_count": 175,
   "metadata": {},
   "outputs": [
    {
     "name": "stdout",
     "output_type": "stream",
     "text": [
      "              precision    recall  f1-score   support\n",
      "\n",
      "           0       0.93      0.81      0.87     19307\n",
      "           1       0.54      0.78      0.64      5502\n",
      "\n",
      "    accuracy                           0.80     24809\n",
      "   macro avg       0.73      0.80      0.75     24809\n",
      "weighted avg       0.84      0.80      0.82     24809\n",
      "\n",
      "Sensitivity :  0.9295405855748631\n",
      "Specificity :  0.5394128669581512\n",
      "AUC Regresión Logística:  0.7969192592392185\n",
      "Recall Regresión Logística:  0.7848055252635405\n"
     ]
    },
    {
     "data": {
      "image/png": "[encoded data removed]",
      "text/plain": [
       "<Figure size 360x360 with 2 Axes>"
      ]
     },
     "metadata": {
      "needs_background": "light"
     },
     "output_type": "display_data"
    }
   ],
   "source": [
    "from sklearn.metrics import recall_score\n",
    "\n",
    "\n",
    "# Confussion Matrix\n",
    "\n",
    "cm = confusion_matrix(y_test, lr_predict)\n",
    "plt.rcParams['figure.figsize'] = (5, 5)\n",
    "sns.heatmap(cm.astype('float') / cm.sum(axis=1)[:, np.newaxis], annot = True, annot_kws = {'size':15}, cmap = 'PuBu')\n",
    "\n",
    "# classification report\n",
    "cr = classification_report(y_test, lr_predict)\n",
    "print(cr)\n",
    "\n",
    "# Sensitivity y Specificity\n",
    "sensitivity = cm[0,0]/(cm[0,0]+cm[1,0])\n",
    "print('Sensitivity : ', sensitivity )\n",
    "specificity = cm[1,1]/(cm[1,1]+cm[0,1])\n",
    "print('Specificity : ', specificity)\n",
    "\n",
    "fpr, tpr, thresholds = roc_curve(y_test, lr_predict)\n",
    "print('AUC Regresión Logística: ', auc(fpr, tpr))\n",
    "\n",
    "lr_recall = recall_score(y_test, lr_predict, average='binary')\n",
    "print(\"Recall Regresión Logística: \", lr_recall)"
   ]
  },
  {
   "cell_type": "markdown",
   "metadata": {},
   "source": [
    "#### Random Forest"
   ]
  },
  {
   "cell_type": "code",
   "execution_count": 177,
   "metadata": {},
   "outputs": [],
   "source": [
    "model = RandomForestClassifier(class_weight='balanced', max_depth=12, random_state=0)\n",
    "\n",
    "pipeline =  imbpipeline(steps = [['smote', SMOTE(random_state=11)],\n",
    "                                 ['model', model]])"
   ]
  },
  {
   "cell_type": "code",
   "execution_count": 178,
   "metadata": {},
   "outputs": [
    {
     "data": {
      "text/plain": [
       "Pipeline(steps=[('smote', SMOTE(random_state=11)),\n",
       "                ['model',\n",
       "                 RandomForestClassifier(class_weight='balanced', max_depth=12,\n",
       "                                        random_state=0)]])"
      ]
     },
     "execution_count": 178,
     "metadata": {},
     "output_type": "execute_result"
    }
   ],
   "source": [
    "pipeline.fit(X_train_wdn[features], y_train_wdn)"
   ]
  },
  {
   "cell_type": "code",
   "execution_count": 180,
   "metadata": {},
   "outputs": [],
   "source": [
    "rf_predict = pipeline.predict(X_test[features])"
   ]
  },
  {
   "cell_type": "code",
   "execution_count": 181,
   "metadata": {},
   "outputs": [
    {
     "name": "stdout",
     "output_type": "stream",
     "text": [
      "              precision    recall  f1-score   support\n",
      "\n",
      "           0       0.91      0.89      0.90     19307\n",
      "           1       0.64      0.70      0.67      5502\n",
      "\n",
      "    accuracy                           0.84     24809\n",
      "   macro avg       0.77      0.79      0.78     24809\n",
      "weighted avg       0.85      0.84      0.85     24809\n",
      "\n",
      "Sensitivity :  0.9111915663933553\n",
      "Specificity :  0.6361373817819811\n",
      "AUC Regresión Logística:  0.7916258837644785\n",
      "Recall Regresión Logística:  0.6968375136314068\n"
     ]
    },
    {
     "data": {
      "image/png": "[encoded data removed]",
      "text/plain": [
       "<Figure size 360x360 with 2 Axes>"
      ]
     },
     "metadata": {
      "needs_background": "light"
     },
     "output_type": "display_data"
    }
   ],
   "source": [
    "# Confussion Matrix\n",
    "\n",
    "cm = confusion_matrix(y_test, rf_predict)\n",
    "plt.rcParams['figure.figsize'] = (5, 5)\n",
    "sns.heatmap(cm.astype('float') / cm.sum(axis=1)[:, np.newaxis], annot = True, annot_kws = {'size':15}, cmap = 'PuBu')\n",
    "\n",
    "# classification report\n",
    "cr = classification_report(y_test, rf_predict)\n",
    "print(cr)\n",
    "\n",
    "# Sensitivity y Specificity\n",
    "sensitivity = cm[0,0]/(cm[0,0]+cm[1,0])\n",
    "print('Sensitivity : ', sensitivity )\n",
    "specificity = cm[1,1]/(cm[1,1]+cm[0,1])\n",
    "print('Specificity : ', specificity)\n",
    "\n",
    "fpr, tpr, thresholds = roc_curve(y_test, rf_predict)\n",
    "print('AUC Regresión Logística: ', auc(fpr, tpr))\n",
    "\n",
    "rf_recall = recall_score(y_test, rf_predict, average='binary')\n",
    "print(\"Recall Regresión Logística: \", rf_recall)"
   ]
  },
  {
   "cell_type": "markdown",
   "metadata": {},
   "source": [
    "Como se puede observar, se obtienen métricas similares a las obtenidas durante el ensayo de los modelos con los distintos datasets. Com era de esperar, el recall en ámbos casos es bajo, pero la precisión obtenida supera la de la clase base naive (predecir probabilidad de cada clase de acuerdo a su distribución). "
   ]
  }
 ],
 "metadata": {
  "kernelspec": {
   "display_name": "Python 3",
   "language": "python",
   "name": "python3"
  },
  "language_info": {
   "codemirror_mode": {
    "name": "ipython",
    "version": 3
   },
   "file_extension": ".py",
   "mimetype": "text/x-python",
   "name": "python",
   "nbconvert_exporter": "python",
   "pygments_lexer": "ipython3",
   "version": "3.8.3"
  }
 },
 "nbformat": 4,
 "nbformat_minor": 4
}
